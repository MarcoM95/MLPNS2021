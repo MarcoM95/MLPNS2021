{
  "nbformat": 4,
  "nbformat_minor": 0,
  "metadata": {
    "colab": {
      "name": "pyBootUnipr.ipynb",
      "provenance": [],
      "collapsed_sections": [],
      "authorship_tag": "ABX9TyNER6aGVqZ0oKdyhXqYNRpD",
      "include_colab_link": true
    },
    "kernelspec": {
      "name": "python3",
      "display_name": "Python 3"
    }
  },
  "cells": [
    {
      "cell_type": "markdown",
      "metadata": {
        "id": "view-in-github",
        "colab_type": "text"
      },
      "source": [
        "<a href=\"https://colab.research.google.com/github/MarcoM95/MLPNS2021/blob/main/pyBootUnipr.ipynb\" target=\"_parent\"><img src=\"https://colab.research.google.com/assets/colab-badge.svg\" alt=\"Open In Colab\"/></a>"
      ]
    },
    {
      "cell_type": "code",
      "metadata": {
        "colab": {
          "base_uri": "https://localhost:8080/"
        },
        "id": "9aZ0-jsIdC2j",
        "outputId": "f730b44d-e9ca-43a4-f842-a8bdadb05174"
      },
      "source": [
        "print(\"hello\")"
      ],
      "execution_count": null,
      "outputs": [
        {
          "output_type": "stream",
          "text": [
            "hello\n"
          ],
          "name": "stdout"
        }
      ]
    },
    {
      "cell_type": "code",
      "metadata": {
        "id": "_xy5BSl4eg8M"
      },
      "source": [
        "from __future__ import print_function, division "
      ],
      "execution_count": null,
      "outputs": []
    },
    {
      "cell_type": "code",
      "metadata": {
        "colab": {
          "base_uri": "https://localhost:8080/"
        },
        "id": "I8kQM37-f5Mj",
        "outputId": "5ea94f0f-f45b-4fc9-84bf-1cfa9cb27659"
      },
      "source": [
        "stringVariable=\"hello\"\n",
        "print(stringVariable)\n"
      ],
      "execution_count": null,
      "outputs": [
        {
          "output_type": "stream",
          "text": [
            "hello\n"
          ],
          "name": "stdout"
        }
      ]
    },
    {
      "cell_type": "code",
      "metadata": {
        "id": "2bbEFyoQg87D"
      },
      "source": [
        "intVariable=3"
      ],
      "execution_count": null,
      "outputs": []
    },
    {
      "cell_type": "code",
      "metadata": {
        "colab": {
          "base_uri": "https://localhost:8080/"
        },
        "id": "dsQiZX2zg_cS",
        "outputId": "97c75c54-ea39-4528-f5d7-a1378f4da43a"
      },
      "source": [
        "type(stringVariable)"
      ],
      "execution_count": null,
      "outputs": [
        {
          "output_type": "execute_result",
          "data": {
            "text/plain": [
              "str"
            ]
          },
          "metadata": {
            "tags": []
          },
          "execution_count": 48
        }
      ]
    },
    {
      "cell_type": "code",
      "metadata": {
        "id": "c1uw8K9rhGby"
      },
      "source": [
        "floatVariable=3.\n"
      ],
      "execution_count": null,
      "outputs": []
    },
    {
      "cell_type": "code",
      "metadata": {
        "colab": {
          "base_uri": "https://localhost:8080/"
        },
        "id": "mCgvRTvrhO0V",
        "outputId": "36fffb8c-7c6d-4f69-b3fe-21023035ae86"
      },
      "source": [
        "type(floatVariable)"
      ],
      "execution_count": null,
      "outputs": [
        {
          "output_type": "execute_result",
          "data": {
            "text/plain": [
              "float"
            ]
          },
          "metadata": {
            "tags": []
          },
          "execution_count": 50
        }
      ]
    },
    {
      "cell_type": "code",
      "metadata": {
        "id": "E-A6mbzKhRhb",
        "colab": {
          "base_uri": "https://localhost:8080/"
        },
        "outputId": "e8c81938-56d1-41e5-be7b-80f174b92473"
      },
      "source": [
        "5*2"
      ],
      "execution_count": null,
      "outputs": [
        {
          "output_type": "execute_result",
          "data": {
            "text/plain": [
              "10"
            ]
          },
          "metadata": {
            "tags": []
          },
          "execution_count": 51
        }
      ]
    },
    {
      "cell_type": "code",
      "metadata": {
        "colab": {
          "base_uri": "https://localhost:8080/"
        },
        "id": "Ic6bCrR4hf7S",
        "outputId": "f83b0b21-9e9f-490c-a290-d19861c56b32"
      },
      "source": [
        "boolVar=True\n",
        "boolVar"
      ],
      "execution_count": null,
      "outputs": [
        {
          "output_type": "execute_result",
          "data": {
            "text/plain": [
              "True"
            ]
          },
          "metadata": {
            "tags": []
          },
          "execution_count": 52
        }
      ]
    },
    {
      "cell_type": "code",
      "metadata": {
        "colab": {
          "base_uri": "https://localhost:8080/"
        },
        "id": "kDcqzFHzifRi",
        "outputId": "e1ad1006-3aea-4c5f-b693-eb14a1f13ac0"
      },
      "source": [
        "type(floatVariable) == float"
      ],
      "execution_count": null,
      "outputs": [
        {
          "output_type": "execute_result",
          "data": {
            "text/plain": [
              "True"
            ]
          },
          "metadata": {
            "tags": []
          },
          "execution_count": 53
        }
      ]
    },
    {
      "cell_type": "code",
      "metadata": {
        "id": "U46vS11EinI8"
      },
      "source": [
        ""
      ],
      "execution_count": null,
      "outputs": []
    },
    {
      "cell_type": "code",
      "metadata": {
        "colab": {
          "base_uri": "https://localhost:8080/"
        },
        "id": "yLNArzmyic9B",
        "outputId": "bdf6bdfe-f8f2-449d-a6fc-bec33e52b660"
      },
      "source": [
        "type(floatVariable)"
      ],
      "execution_count": null,
      "outputs": [
        {
          "output_type": "execute_result",
          "data": {
            "text/plain": [
              "float"
            ]
          },
          "metadata": {
            "tags": []
          },
          "execution_count": 54
        }
      ]
    },
    {
      "cell_type": "code",
      "metadata": {
        "id": "lHQFizALjmhK"
      },
      "source": [
        ""
      ],
      "execution_count": null,
      "outputs": []
    },
    {
      "cell_type": "code",
      "metadata": {
        "colab": {
          "base_uri": "https://localhost:8080/"
        },
        "id": "Zb6hhnZ3j4hK",
        "outputId": "3e192f65-524d-43b1-e59d-002302357552"
      },
      "source": [
        "num = 3\n",
        "\n",
        "# Try these two variations as well. \n",
        "# num = -5\n",
        "# num = 0\n",
        "\n",
        "if num >= 0:\n",
        "    print(\"Positive or Zero\")\n",
        "else:\n",
        "    print(\"Negative number\")"
      ],
      "execution_count": null,
      "outputs": [
        {
          "output_type": "stream",
          "text": [
            "Positive or Zero\n"
          ],
          "name": "stdout"
        }
      ]
    },
    {
      "cell_type": "markdown",
      "metadata": {
        "id": "LBlo6LPnVzbm"
      },
      "source": [
        "# Nuova sezione"
      ]
    },
    {
      "cell_type": "code",
      "metadata": {
        "colab": {
          "base_uri": "https://localhost:8080/"
        },
        "id": "x060al4Bj5nT",
        "outputId": "3b6e4cd5-4ee1-4827-98e8-e7ee629cc7c0"
      },
      "source": [
        "a=0\n",
        "while a is not 10:\n",
        "  a=a+1\n",
        "  print(a)"
      ],
      "execution_count": null,
      "outputs": [
        {
          "output_type": "stream",
          "text": [
            "1\n",
            "2\n",
            "3\n",
            "4\n",
            "5\n",
            "6\n",
            "7\n",
            "8\n",
            "9\n",
            "10\n"
          ],
          "name": "stdout"
        }
      ]
    },
    {
      "cell_type": "markdown",
      "metadata": {
        "id": "SmXcP0tBXfOj"
      },
      "source": [
        "#Native python variables"
      ]
    },
    {
      "cell_type": "code",
      "metadata": {
        "id": "TkSdFNHtXmq8"
      },
      "source": [
        "stringVariable = \"hello\"\n",
        "intVariable    = 3\n",
        "floatVariable  = 3."
      ],
      "execution_count": null,
      "outputs": []
    },
    {
      "cell_type": "code",
      "metadata": {
        "id": "0WQqPyoAZ3No"
      },
      "source": [
        ""
      ],
      "execution_count": null,
      "outputs": []
    },
    {
      "cell_type": "markdown",
      "metadata": {
        "id": "34nsF7uoaNOI"
      },
      "source": [
        "# variable containers"
      ]
    },
    {
      "cell_type": "code",
      "metadata": {
        "colab": {
          "base_uri": "https://localhost:8080/"
        },
        "id": "gzwTgy0-aPqu",
        "outputId": "4fad9d42-30fd-4533-d146-4ebc571021b2"
      },
      "source": [
        "myList = [0, 1, 3, \"hello\", 3.3, [0, 2, 3.3]]\n",
        "myList[-1]"
      ],
      "execution_count": null,
      "outputs": [
        {
          "output_type": "execute_result",
          "data": {
            "text/plain": [
              "[0, 2, 3.3]"
            ]
          },
          "metadata": {
            "tags": []
          },
          "execution_count": 69
        }
      ]
    },
    {
      "cell_type": "code",
      "metadata": {
        "colab": {
          "base_uri": "https://localhost:8080/",
          "height": 35
        },
        "id": "SDrQ_8cEbDOr",
        "outputId": "bc994a12-36ce-4a1e-fcbe-a8855af0a020"
      },
      "source": [
        "stringVariable[-1]"
      ],
      "execution_count": null,
      "outputs": [
        {
          "output_type": "execute_result",
          "data": {
            "application/vnd.google.colaboratory.intrinsic+json": {
              "type": "string"
            },
            "text/plain": [
              "'o'"
            ]
          },
          "metadata": {
            "tags": []
          },
          "execution_count": 71
        }
      ]
    },
    {
      "cell_type": "code",
      "metadata": {
        "colab": {
          "base_uri": "https://localhost:8080/",
          "height": 35
        },
        "id": "bMvGZaahbPfQ",
        "outputId": "640f6062-44f0-4db3-d81c-33ef2b2f6e52"
      },
      "source": [
        "stringVariable + stringVariable"
      ],
      "execution_count": null,
      "outputs": [
        {
          "output_type": "execute_result",
          "data": {
            "application/vnd.google.colaboratory.intrinsic+json": {
              "type": "string"
            },
            "text/plain": [
              "'hellohello'"
            ]
          },
          "metadata": {
            "tags": []
          },
          "execution_count": 72
        }
      ]
    },
    {
      "cell_type": "code",
      "metadata": {
        "colab": {
          "base_uri": "https://localhost:8080/"
        },
        "id": "BJldBvbKbYea",
        "outputId": "acfbb5b3-65e2-4b44-fd30-030582407731"
      },
      "source": [
        "tmpList = []\n",
        "a = 0;\n",
        "while a**2 < 300:\n",
        "  a = a+1\n",
        "  tmpList.append(a**2)\n",
        "tmpList"
      ],
      "execution_count": null,
      "outputs": [
        {
          "output_type": "execute_result",
          "data": {
            "text/plain": [
              "[1, 4, 9, 16, 25, 36, 49, 64, 81, 100, 121, 144, 169, 196, 225, 256, 289, 324]"
            ]
          },
          "metadata": {
            "tags": []
          },
          "execution_count": 78
        }
      ]
    },
    {
      "cell_type": "markdown",
      "metadata": {
        "id": "TYReYVgbchNI"
      },
      "source": [
        "List are very useful bcs they contain hybrid types and they do not need to be allocated memory before they are filled so I can append things on the fly. List are also computationally inefficient."
      ]
    },
    {
      "cell_type": "code",
      "metadata": {
        "colab": {
          "base_uri": "https://localhost:8080/"
        },
        "id": "8m6kjHondJ80",
        "outputId": "0adeb8e8-bfb0-47d6-82c6-c880fef3b4cf"
      },
      "source": [
        "dictVariable = {\"keyInt\": 0,\n",
        "                \"keyFloat\": 0.3,\n",
        "                \"keyString\":\"I am a string\",\n",
        "                \"keyDict\": {} }\n",
        "dictVariable"
      ],
      "execution_count": null,
      "outputs": [
        {
          "output_type": "execute_result",
          "data": {
            "text/plain": [
              "{'keyDict': {}, 'keyFloat': 0.3, 'keyInt': 0, 'keyString': 'I am a string'}"
            ]
          },
          "metadata": {
            "tags": []
          },
          "execution_count": 84
        }
      ]
    },
    {
      "cell_type": "code",
      "metadata": {
        "id": "X-7C53aieI5f"
      },
      "source": [
        "stringVariable=\"hello!\"\n"
      ],
      "execution_count": null,
      "outputs": []
    },
    {
      "cell_type": "code",
      "metadata": {
        "colab": {
          "base_uri": "https://localhost:8080/",
          "height": 35
        },
        "id": "aiRXkZ2ifg4e",
        "outputId": "8efae9b1-bf9e-4206-b568-b88fd9350242"
      },
      "source": [
        "stringVariable.capitalize()"
      ],
      "execution_count": null,
      "outputs": [
        {
          "output_type": "execute_result",
          "data": {
            "application/vnd.google.colaboratory.intrinsic+json": {
              "type": "string"
            },
            "text/plain": [
              "'Hello!'"
            ]
          },
          "metadata": {
            "tags": []
          },
          "execution_count": 86
        }
      ]
    },
    {
      "cell_type": "code",
      "metadata": {
        "colab": {
          "base_uri": "https://localhost:8080/",
          "height": 35
        },
        "id": "0HvmjlUGf_jK",
        "outputId": "ee5ca036-2cd5-4cbe-f143-a633953bae4b"
      },
      "source": [
        "stringVariable"
      ],
      "execution_count": null,
      "outputs": [
        {
          "output_type": "execute_result",
          "data": {
            "application/vnd.google.colaboratory.intrinsic+json": {
              "type": "string"
            },
            "text/plain": [
              "'hello!'"
            ]
          },
          "metadata": {
            "tags": []
          },
          "execution_count": 87
        }
      ]
    },
    {
      "cell_type": "code",
      "metadata": {
        "colab": {
          "base_uri": "https://localhost:8080/",
          "height": 35
        },
        "id": "bBC4ZXhbgCbd",
        "outputId": "1aad7154-2b7c-4923-c8c0-3adee9888e65"
      },
      "source": [
        "stringVariable.replace(\"!\",'')"
      ],
      "execution_count": null,
      "outputs": [
        {
          "output_type": "execute_result",
          "data": {
            "application/vnd.google.colaboratory.intrinsic+json": {
              "type": "string"
            },
            "text/plain": [
              "'hello'"
            ]
          },
          "metadata": {
            "tags": []
          },
          "execution_count": 89
        }
      ]
    },
    {
      "cell_type": "code",
      "metadata": {
        "id": "DgzPkqtJgTRW"
      },
      "source": [
        "import numpy as np"
      ],
      "execution_count": null,
      "outputs": []
    },
    {
      "cell_type": "code",
      "metadata": {
        "colab": {
          "base_uri": "https://localhost:8080/"
        },
        "id": "EcSxpc5bi-5V",
        "outputId": "2e361774-e77e-4969-b4b4-a9e9db9a8fdc"
      },
      "source": [
        "np.abs(-3)"
      ],
      "execution_count": null,
      "outputs": [
        {
          "output_type": "execute_result",
          "data": {
            "text/plain": [
              "3"
            ]
          },
          "metadata": {
            "tags": []
          },
          "execution_count": 92
        }
      ]
    },
    {
      "cell_type": "code",
      "metadata": {
        "id": "T1tmedrPjBm1"
      },
      "source": [
        "from matplotlib import pylab"
      ],
      "execution_count": null,
      "outputs": []
    },
    {
      "cell_type": "code",
      "metadata": {
        "colab": {
          "base_uri": "https://localhost:8080/",
          "height": 283
        },
        "id": "rID_yHzRjWBM",
        "outputId": "39eb839c-4692-4b0a-cfe2-6de79b57ff73"
      },
      "source": [
        "pylab.plot(range(10),np.zeros(10))"
      ],
      "execution_count": null,
      "outputs": [
        {
          "output_type": "execute_result",
          "data": {
            "text/plain": [
              "[<matplotlib.lines.Line2D at 0x7f8644333dd0>]"
            ]
          },
          "metadata": {
            "tags": []
          },
          "execution_count": 94
        },
        {
          "output_type": "display_data",
          "data": {
            "image/png": "[encoded data removed]",
            "text/plain": [
              "<Figure size 432x288 with 1 Axes>"
            ]
          },
          "metadata": {
            "tags": [],
            "needs_background": "light"
          }
        }
      ]
    },
    {
      "cell_type": "code",
      "metadata": {
        "id": "qNok-3RZjiaU"
      },
      "source": [
        "from matplotlib import pylab as plt"
      ],
      "execution_count": null,
      "outputs": []
    },
    {
      "cell_type": "code",
      "metadata": {
        "colab": {
          "base_uri": "https://localhost:8080/",
          "height": 265
        },
        "id": "JJnadD9gjryd",
        "outputId": "07956c4e-b0cb-4195-a73a-6a0a21e1a5d6"
      },
      "source": [
        "plt.plot(range(10),np.zeros(10));"
      ],
      "execution_count": null,
      "outputs": [
        {
          "output_type": "display_data",
          "data": {
            "image/png": "[encoded data removed]",
            "text/plain": [
              "<Figure size 432x288 with 1 Axes>"
            ]
          },
          "metadata": {
            "tags": [],
            "needs_background": "light"
          }
        }
      ]
    },
    {
      "cell_type": "code",
      "metadata": {
        "colab": {
          "base_uri": "https://localhost:8080/"
        },
        "id": "bqZsLeM8kTcV",
        "outputId": "af29d94a-ddca-4ad0-ea63-0fcd11626c71"
      },
      "source": [
        "np.int16(3)"
      ],
      "execution_count": null,
      "outputs": [
        {
          "output_type": "execute_result",
          "data": {
            "text/plain": [
              "3"
            ]
          },
          "metadata": {
            "tags": []
          },
          "execution_count": 101
        }
      ]
    },
    {
      "cell_type": "code",
      "metadata": {
        "colab": {
          "base_uri": "https://localhost:8080/"
        },
        "id": "Oc2MyfEGkrn9",
        "outputId": "1ba31a36-b948-434e-e74c-f5a321ed96df"
      },
      "source": [
        "np.uint8(3)  # Images are often saved as uint8"
      ],
      "execution_count": null,
      "outputs": [
        {
          "output_type": "execute_result",
          "data": {
            "text/plain": [
              "3"
            ]
          },
          "metadata": {
            "tags": []
          },
          "execution_count": 108
        }
      ]
    },
    {
      "cell_type": "code",
      "metadata": {
        "id": "d3W7evoyk-Td"
      },
      "source": [
        "npuint8 = np.uint8(256)"
      ],
      "execution_count": null,
      "outputs": []
    },
    {
      "cell_type": "code",
      "metadata": {
        "colab": {
          "base_uri": "https://localhost:8080/"
        },
        "id": "JI4NN8-Nlbmb",
        "outputId": "2c30fda0-2876-48e3-b6a3-dd25be2580b4"
      },
      "source": [
        "npuint8.dtype  #this is an attribute --> has no computational costs (as methods)"
      ],
      "execution_count": null,
      "outputs": [
        {
          "output_type": "execute_result",
          "data": {
            "text/plain": [
              "dtype('uint8')"
            ]
          },
          "metadata": {
            "tags": []
          },
          "execution_count": 110
        }
      ]
    },
    {
      "cell_type": "code",
      "metadata": {
        "colab": {
          "base_uri": "https://localhost:8080/"
        },
        "id": "J8euMw6QltvF",
        "outputId": "067bdfdd-2999-4922-fce7-5fcc5821bd82"
      },
      "source": [
        "np.array([intVariable, floatVariable, 6]) #Arrays must contain the same type inside them !! "
      ],
      "execution_count": null,
      "outputs": [
        {
          "output_type": "execute_result",
          "data": {
            "text/plain": [
              "array([3., 3., 6.])"
            ]
          },
          "metadata": {
            "tags": []
          },
          "execution_count": 114
        }
      ]
    },
    {
      "cell_type": "code",
      "metadata": {
        "colab": {
          "base_uri": "https://localhost:8080/"
        },
        "id": "nXPCSF0zl66l",
        "outputId": "e0154126-25b1-4eab-acba-1ddd1f2be072"
      },
      "source": [
        "myList[:-1]"
      ],
      "execution_count": null,
      "outputs": [
        {
          "output_type": "execute_result",
          "data": {
            "text/plain": [
              "[0, 1, 3, 'hello', 3.3]"
            ]
          },
          "metadata": {
            "tags": []
          },
          "execution_count": 117
        }
      ]
    },
    {
      "cell_type": "code",
      "metadata": {
        "colab": {
          "base_uri": "https://localhost:8080/"
        },
        "id": "eR6WRdHDmUM0",
        "outputId": "b47c7763-1d3c-4fad-819e-57b96824384f"
      },
      "source": [
        "np.array(myList[:-1])"
      ],
      "execution_count": null,
      "outputs": [
        {
          "output_type": "execute_result",
          "data": {
            "text/plain": [
              "array(['0', '1', '3', 'hello', '3.3'], dtype='<U21')"
            ]
          },
          "metadata": {
            "tags": []
          },
          "execution_count": 118
        }
      ]
    },
    {
      "cell_type": "code",
      "metadata": {
        "colab": {
          "base_uri": "https://localhost:8080/"
        },
        "id": "oghCrNrBmZVn",
        "outputId": "39f77fed-a2e2-482f-d8c4-b57258498574"
      },
      "source": [
        "np.zeros(75)  #List of 75 zeros"
      ],
      "execution_count": null,
      "outputs": [
        {
          "output_type": "execute_result",
          "data": {
            "text/plain": [
              "array([0., 0., 0., 0., 0., 0., 0., 0., 0., 0., 0., 0., 0., 0., 0., 0., 0.,\n",
              "       0., 0., 0., 0., 0., 0., 0., 0., 0., 0., 0., 0., 0., 0., 0., 0., 0.,\n",
              "       0., 0., 0., 0., 0., 0., 0., 0., 0., 0., 0., 0., 0., 0., 0., 0., 0.,\n",
              "       0., 0., 0., 0., 0., 0., 0., 0., 0., 0., 0., 0., 0., 0., 0., 0., 0.,\n",
              "       0., 0., 0., 0., 0., 0., 0.])"
            ]
          },
          "metadata": {
            "tags": []
          },
          "execution_count": 119
        }
      ]
    },
    {
      "cell_type": "code",
      "metadata": {
        "colab": {
          "base_uri": "https://localhost:8080/"
        },
        "id": "UNvG9jJrmsPk",
        "outputId": "e467450b-31b7-4360-c9e7-8ccdc9e2c539"
      },
      "source": [
        "np.zeros(75).dtype"
      ],
      "execution_count": null,
      "outputs": [
        {
          "output_type": "execute_result",
          "data": {
            "text/plain": [
              "dtype('float64')"
            ]
          },
          "metadata": {
            "tags": []
          },
          "execution_count": 121
        }
      ]
    },
    {
      "cell_type": "code",
      "metadata": {
        "colab": {
          "base_uri": "https://localhost:8080/"
        },
        "id": "LWlu0_X0mgXq",
        "outputId": "172b1a4e-2d7b-4e7c-cd0a-4a43a4ec47ac"
      },
      "source": [
        "np.empty(75) #DONT'T USE THAT"
      ],
      "execution_count": null,
      "outputs": [
        {
          "output_type": "execute_result",
          "data": {
            "text/plain": [
              "array([0., 0., 0., 0., 0., 0., 0., 0., 0., 0., 0., 0., 0., 0., 0., 0., 0.,\n",
              "       0., 0., 0., 0., 0., 0., 0., 0., 0., 0., 0., 0., 0., 0., 0., 0., 0.,\n",
              "       0., 0., 0., 0., 0., 0., 0., 0., 0., 0., 0., 0., 0., 0., 0., 0., 0.,\n",
              "       0., 0., 0., 0., 0., 0., 0., 0., 0., 0., 0., 0., 0., 0., 0., 0., 0.,\n",
              "       0., 0., 0., 0., 0., 0., 0.])"
            ]
          },
          "metadata": {
            "tags": []
          },
          "execution_count": 120
        }
      ]
    },
    {
      "cell_type": "code",
      "metadata": {
        "colab": {
          "base_uri": "https://localhost:8080/"
        },
        "id": "TRP07e2Mm01c",
        "outputId": "2a19498a-796a-4c9a-b70f-6f9d34795c9b"
      },
      "source": [
        "myList[0:1]  #NB:last element is at 1-1"
      ],
      "execution_count": null,
      "outputs": [
        {
          "output_type": "execute_result",
          "data": {
            "text/plain": [
              "[0, 1]"
            ]
          },
          "metadata": {
            "tags": []
          },
          "execution_count": 125
        }
      ]
    },
    {
      "cell_type": "code",
      "metadata": {
        "colab": {
          "base_uri": "https://localhost:8080/"
        },
        "id": "ZT-Xht0cnC-z",
        "outputId": "462a32c5-fb6c-4482-820d-41058dc4b281"
      },
      "source": [
        "tmparray=np.zeros(75,int)\n",
        "tmparray"
      ],
      "execution_count": null,
      "outputs": [
        {
          "output_type": "execute_result",
          "data": {
            "text/plain": [
              "array([0, 0, 0, 0, 0, 0, 0, 0, 0, 0, 0, 0, 0, 0, 0, 0, 0, 0, 0, 0, 0, 0,\n",
              "       0, 0, 0, 0, 0, 0, 0, 0, 0, 0, 0, 0, 0, 0, 0, 0, 0, 0, 0, 0, 0, 0,\n",
              "       0, 0, 0, 0, 0, 0, 0, 0, 0, 0, 0, 0, 0, 0, 0, 0, 0, 0, 0, 0, 0, 0,\n",
              "       0, 0, 0, 0, 0, 0, 0, 0, 0])"
            ]
          },
          "metadata": {
            "tags": []
          },
          "execution_count": 128
        }
      ]
    },
    {
      "cell_type": "code",
      "metadata": {
        "id": "BzkLi8vxnO9u"
      },
      "source": [
        "zerosarray=np.zeros(7,int)\n",
        "onesarray = np.ones(7,float)"
      ],
      "execution_count": null,
      "outputs": []
    },
    {
      "cell_type": "code",
      "metadata": {
        "colab": {
          "base_uri": "https://localhost:8080/"
        },
        "id": "zO3UOVLWnN5U",
        "outputId": "f05d633f-d3b5-4483-f187-ecd40a952a61"
      },
      "source": [
        "zerosarray + onesarray  #NB: More efficinet than use a for loop"
      ],
      "execution_count": null,
      "outputs": [
        {
          "output_type": "execute_result",
          "data": {
            "text/plain": [
              "array([1., 1., 1., 1., 1., 1., 1.])"
            ]
          },
          "metadata": {
            "tags": []
          },
          "execution_count": 131
        }
      ]
    },
    {
      "cell_type": "code",
      "metadata": {
        "colab": {
          "base_uri": "https://localhost:8080/"
        },
        "id": "wbcpTMVxnkEC",
        "outputId": "7442b5ba-5d84-44db-9c34-b1842da7f76f"
      },
      "source": [
        "anotherOnesarray=np.ones(10,float)\n",
        "anotherOnesarray.ndim"
      ],
      "execution_count": null,
      "outputs": [
        {
          "output_type": "execute_result",
          "data": {
            "text/plain": [
              "1"
            ]
          },
          "metadata": {
            "tags": []
          },
          "execution_count": 133
        }
      ]
    },
    {
      "cell_type": "code",
      "metadata": {
        "colab": {
          "base_uri": "https://localhost:8080/"
        },
        "id": "hzk-mMuQnz6L",
        "outputId": "008e1cac-eecd-42f0-fe77-a33ac333d9af"
      },
      "source": [
        "anotherOnesarray.min()"
      ],
      "execution_count": null,
      "outputs": [
        {
          "output_type": "execute_result",
          "data": {
            "text/plain": [
              "1.0"
            ]
          },
          "metadata": {
            "tags": []
          },
          "execution_count": 135
        }
      ]
    },
    {
      "cell_type": "code",
      "metadata": {
        "colab": {
          "base_uri": "https://localhost:8080/"
        },
        "id": "Z7fIQgOMn7bW",
        "outputId": "383f233b-9323-4781-ce9d-aaac3763d7d9"
      },
      "source": [
        "list(range(10)) #creates a list of consecutive numbers"
      ],
      "execution_count": null,
      "outputs": [
        {
          "output_type": "execute_result",
          "data": {
            "text/plain": [
              "[0, 1, 2, 3, 4, 5, 6, 7, 8, 9]"
            ]
          },
          "metadata": {
            "tags": []
          },
          "execution_count": 137
        }
      ]
    },
    {
      "cell_type": "code",
      "metadata": {
        "colab": {
          "base_uri": "https://localhost:8080/"
        },
        "id": "O8bIVkifoJBb",
        "outputId": "f89651b6-e5bb-4693-bece-2d3f49efd5e2"
      },
      "source": [
        "np.arange(10)"
      ],
      "execution_count": null,
      "outputs": [
        {
          "output_type": "execute_result",
          "data": {
            "text/plain": [
              "array([0, 1, 2, 3, 4, 5, 6, 7, 8, 9])"
            ]
          },
          "metadata": {
            "tags": []
          },
          "execution_count": 138
        }
      ]
    },
    {
      "cell_type": "code",
      "metadata": {
        "colab": {
          "base_uri": "https://localhost:8080/"
        },
        "id": "sn_A6PfMoN1r",
        "outputId": "10dca432-b597-4305-f40f-94281b683ebf"
      },
      "source": [
        "np.arange(10.)"
      ],
      "execution_count": null,
      "outputs": [
        {
          "output_type": "execute_result",
          "data": {
            "text/plain": [
              "array([0., 1., 2., 3., 4., 5., 6., 7., 8., 9.])"
            ]
          },
          "metadata": {
            "tags": []
          },
          "execution_count": 139
        }
      ]
    },
    {
      "cell_type": "code",
      "metadata": {
        "colab": {
          "base_uri": "https://localhost:8080/"
        },
        "id": "CNG-U1vWoPwy",
        "outputId": "f06d5f69-0845-4547-d621-e37a2d67c215"
      },
      "source": [
        "np.arange(5,10.,2)"
      ],
      "execution_count": null,
      "outputs": [
        {
          "output_type": "execute_result",
          "data": {
            "text/plain": [
              "array([5., 7., 9.])"
            ]
          },
          "metadata": {
            "tags": []
          },
          "execution_count": 141
        }
      ]
    },
    {
      "cell_type": "code",
      "metadata": {
        "colab": {
          "base_uri": "https://localhost:8080/"
        },
        "id": "p9N-6s_-oZxP",
        "outputId": "e33f6fa6-0452-4d25-c584-16e4ebe41a8c"
      },
      "source": [
        "np.random.rand(10)"
      ],
      "execution_count": null,
      "outputs": [
        {
          "output_type": "execute_result",
          "data": {
            "text/plain": [
              "array([0.08008109, 0.86539858, 0.8317746 , 0.13827674, 0.99167395,\n",
              "       0.37382715, 0.05551938, 0.38854572, 0.37721308, 0.91347687])"
            ]
          },
          "metadata": {
            "tags": []
          },
          "execution_count": 145
        }
      ]
    },
    {
      "cell_type": "code",
      "metadata": {
        "colab": {
          "base_uri": "https://localhost:8080/"
        },
        "id": "XvdEbJIsolQX",
        "outputId": "730e93da-21e3-4dee-9f7f-e6078cb21611"
      },
      "source": [
        "np.random.rand(10,20).shape #10 x 20 object"
      ],
      "execution_count": null,
      "outputs": [
        {
          "output_type": "execute_result",
          "data": {
            "text/plain": [
              "(10, 20)"
            ]
          },
          "metadata": {
            "tags": []
          },
          "execution_count": 147
        }
      ]
    },
    {
      "cell_type": "code",
      "metadata": {
        "id": "gYhvShCZowK_"
      },
      "source": [
        "one1DArray = np.random.rand(10)\n",
        "one2DArray = np.random.rand(10,20)\n"
      ],
      "execution_count": null,
      "outputs": []
    },
    {
      "cell_type": "code",
      "metadata": {
        "colab": {
          "base_uri": "https://localhost:8080/"
        },
        "id": "sU1ga4TfpHwt",
        "outputId": "5e734f32-4eff-47ef-f4d2-05a05a88b6b2"
      },
      "source": [
        "one1DArray[1:3]"
      ],
      "execution_count": null,
      "outputs": [
        {
          "output_type": "execute_result",
          "data": {
            "text/plain": [
              "array([0.52074912, 0.43513461])"
            ]
          },
          "metadata": {
            "tags": []
          },
          "execution_count": 150
        }
      ]
    },
    {
      "cell_type": "code",
      "metadata": {
        "colab": {
          "base_uri": "https://localhost:8080/"
        },
        "id": "FldTAJ9RpLmP",
        "outputId": "7a637dbc-f583-431b-9d49-85eadbc481d9"
      },
      "source": [
        "one2DArray[1:3,0]  "
      ],
      "execution_count": null,
      "outputs": [
        {
          "output_type": "execute_result",
          "data": {
            "text/plain": [
              "array([0.51311423, 0.51440754])"
            ]
          },
          "metadata": {
            "tags": []
          },
          "execution_count": 153
        }
      ]
    },
    {
      "cell_type": "code",
      "metadata": {
        "id": "oH_EiyVapaIS"
      },
      "source": [
        "def myFunction(a):\n",
        "  print(\"var passed is\", a)\n",
        "  return 1"
      ],
      "execution_count": null,
      "outputs": []
    },
    {
      "cell_type": "code",
      "metadata": {
        "colab": {
          "base_uri": "https://localhost:8080/"
        },
        "id": "oDmhlLVuqMBx",
        "outputId": "aa800921-78c1-4a2f-fc1d-7187015b8a72"
      },
      "source": [
        "myFunction(\"Hello!\")"
      ],
      "execution_count": null,
      "outputs": [
        {
          "output_type": "stream",
          "text": [
            "var passed is Hello!\n"
          ],
          "name": "stdout"
        },
        {
          "output_type": "execute_result",
          "data": {
            "text/plain": [
              "1"
            ]
          },
          "metadata": {
            "tags": []
          },
          "execution_count": 157
        }
      ]
    },
    {
      "cell_type": "code",
      "metadata": {
        "colab": {
          "base_uri": "https://localhost:8080/"
        },
        "id": "vCz6J6wJqaem",
        "outputId": "34e3ce20-dc84-473e-e224-5440b780152d"
      },
      "source": [
        "myList"
      ],
      "execution_count": null,
      "outputs": [
        {
          "output_type": "execute_result",
          "data": {
            "text/plain": [
              "[0, 1, 3, 'hello', 3.3, [0, 2, 3.3]]"
            ]
          },
          "metadata": {
            "tags": []
          },
          "execution_count": 160
        }
      ]
    },
    {
      "cell_type": "code",
      "metadata": {
        "colab": {
          "base_uri": "https://localhost:8080/"
        },
        "id": "yyyjif7eqpq2",
        "outputId": "0094b466-2bb9-4f1b-9d2a-e38e6399fc33"
      },
      "source": [
        "myList[::-1] # al contario"
      ],
      "execution_count": null,
      "outputs": [
        {
          "output_type": "execute_result",
          "data": {
            "text/plain": [
              "[[0, 2, 3.3], 3.3, 'hello', 3, 1, 0]"
            ]
          },
          "metadata": {
            "tags": []
          },
          "execution_count": 161
        }
      ]
    },
    {
      "cell_type": "code",
      "metadata": {
        "id": "LC2ea-_7qu7b"
      },
      "source": [
        "## FBB written for python bootcamp CUSP 2016-2017\n",
        "## function that checks if a string is a palindrom\n",
        "def lookForPal(string):\n",
        "    '''Verifies if a string is a palindrom\n",
        "    Argument:\n",
        "        a string\n",
        "    '''\n",
        "    # I use the method .lower to de-capitalise characters in the input string\n",
        "    # that way I can just compare if the string and its reverse are the same\n",
        "    # if I didnt do that Hannah would not look like a palindrom\n",
        "    if string.lower() == string.lower()[::-1]: \n",
        "         # I need to make sure I print the unique half of the word \n",
        "         # whether it has even or odd number of characters\n",
        "         #if len(string) % 2 :\n",
        "         #    halfpal = string[:int(len(string) / 2 + 1)]\n",
        "         #else: \n",
        "         #    halfpal = string[:int(len(string) / 2)] \n",
        "         \n",
        "        halfpal = string[:int((float(len(string)) / 2.0) + 0.5)]\n",
        "        print (\"Yes its a palindrome\", halfpal)\n",
        "        return (1)\n",
        "    print (\"this is not a palindrome\")\n",
        "    return (-1)\n"
      ],
      "execution_count": null,
      "outputs": []
    },
    {
      "cell_type": "code",
      "metadata": {
        "colab": {
          "base_uri": "https://localhost:8080/"
        },
        "id": "ratAgnqitwHY",
        "outputId": "ff799770-0e22-453e-bee6-d788a40d7b16"
      },
      "source": [
        "lookForPal(\"Icanipseudonaniminanoduespinaci\")"
      ],
      "execution_count": null,
      "outputs": [
        {
          "output_type": "stream",
          "text": [
            "Yes its a palindrome Icanipseudonanim\n"
          ],
          "name": "stdout"
        },
        {
          "output_type": "execute_result",
          "data": {
            "text/plain": [
              "1"
            ]
          },
          "metadata": {
            "tags": []
          },
          "execution_count": 214
        }
      ]
    },
    {
      "cell_type": "markdown",
      "metadata": {
        "id": "vw-tq-GPtPOS"
      },
      "source": [
        "#Check if palyndrome"
      ]
    },
    {
      "cell_type": "code",
      "metadata": {
        "id": "I-ER3UbPrF2V"
      },
      "source": [
        "def checkPal(string):\n",
        "  string = string.lower()           #Lower string\n",
        "  string = string.replace(\" \",'')   #remove empty spaces\n",
        "  halfpal = string[:int((float(len(string)) / 2.0) + 0.5)]\n",
        "  print(\"Palyndrome letters are: \", halfpal)\n",
        "  return string == string[::-1]\n"
      ],
      "execution_count": null,
      "outputs": []
    },
    {
      "cell_type": "code",
      "metadata": {
        "colab": {
          "base_uri": "https://localhost:8080/"
        },
        "id": "svf1rU5ls06H",
        "outputId": "e2173616-25a3-48bf-bc21-d620e1750810"
      },
      "source": [
        "checkPal(\"I cani pseudonani minano due spinaci\")"
      ],
      "execution_count": null,
      "outputs": [
        {
          "output_type": "stream",
          "text": [
            "Palyndrome letters are:  icanipseudonanim\n"
          ],
          "name": "stdout"
        },
        {
          "output_type": "execute_result",
          "data": {
            "text/plain": [
              "True"
            ]
          },
          "metadata": {
            "tags": []
          },
          "execution_count": 212
        }
      ]
    },
    {
      "cell_type": "markdown",
      "metadata": {
        "id": "BluHOHugu7Js"
      },
      "source": [
        "# Link Colab with Google drive"
      ]
    },
    {
      "cell_type": "code",
      "metadata": {
        "id": "A6JXjXb7u38u"
      },
      "source": [
        "from google.colab import drive"
      ],
      "execution_count": null,
      "outputs": []
    },
    {
      "cell_type": "code",
      "metadata": {
        "colab": {
          "base_uri": "https://localhost:8080/"
        },
        "id": "heU_FXqcwSTO",
        "outputId": "9ce04fd3-b7af-4bcb-fb40-7b547b183d0c"
      },
      "source": [
        "drive.mount(\"/content/drive\")"
      ],
      "execution_count": null,
      "outputs": [
        {
          "output_type": "stream",
          "text": [
            "Mounted at /content/drive\n"
          ],
          "name": "stdout"
        }
      ]
    },
    {
      "cell_type": "code",
      "metadata": {
        "colab": {
          "base_uri": "https://localhost:8080/"
        },
        "id": "wfnbAr0Uwqqq",
        "outputId": "0ab57c9d-5988-4e3a-9c0b-270cad6a0085"
      },
      "source": [
        "ls"
      ],
      "execution_count": null,
      "outputs": [
        {
          "output_type": "stream",
          "text": [
            "\u001b[0m\u001b[01;34mdrive\u001b[0m/  \u001b[01;34msample_data\u001b[0m/\n"
          ],
          "name": "stdout"
        }
      ]
    },
    {
      "cell_type": "code",
      "metadata": {
        "colab": {
          "base_uri": "https://localhost:8080/"
        },
        "id": "1BsaMDskwzdM",
        "outputId": "05c053db-8d05-4739-d7b1-1642df20b5a6"
      },
      "source": [
        "cd drive"
      ],
      "execution_count": null,
      "outputs": [
        {
          "output_type": "stream",
          "text": [
            "/content/drive\n"
          ],
          "name": "stdout"
        }
      ]
    },
    {
      "cell_type": "code",
      "metadata": {
        "colab": {
          "base_uri": "https://localhost:8080/"
        },
        "id": "SZGIggsHw0mx",
        "outputId": "458e23a4-c002-457e-a4e8-2afe678e81fd"
      },
      "source": [
        "ls"
      ],
      "execution_count": null,
      "outputs": [
        {
          "output_type": "stream",
          "text": [
            "\u001b[0m\u001b[01;34mMyDrive\u001b[0m/\n"
          ],
          "name": "stdout"
        }
      ]
    },
    {
      "cell_type": "code",
      "metadata": {
        "colab": {
          "base_uri": "https://localhost:8080/"
        },
        "id": "3qezG9Ajw6Pe",
        "outputId": "2a99efe1-1e44-46df-9ba2-d1afc1d24abc"
      },
      "source": [
        "cd MyDrive"
      ],
      "execution_count": null,
      "outputs": [
        {
          "output_type": "stream",
          "text": [
            "/content/drive/MyDrive\n"
          ],
          "name": "stdout"
        }
      ]
    },
    {
      "cell_type": "code",
      "metadata": {
        "colab": {
          "base_uri": "https://localhost:8080/"
        },
        "id": "NtEDdV2ow9kQ",
        "outputId": "8c5db248-4d41-45dc-ff72-b6065cb82e8d"
      },
      "source": [
        "ls"
      ],
      "execution_count": null,
      "outputs": [
        {
          "output_type": "stream",
          "text": [
            " \u001b[0m\u001b[01;34mClassroom\u001b[0m/  \u001b[01;34m'Colab Notebooks'\u001b[0m/\n"
          ],
          "name": "stdout"
        }
      ]
    },
    {
      "cell_type": "code",
      "metadata": {
        "colab": {
          "base_uri": "https://localhost:8080/"
        },
        "id": "NUACsZLOw-W6",
        "outputId": "e9858497-9d59-4676-aab9-20cc39a35ef8"
      },
      "source": [
        "cd Colab\\ Notebooks"
      ],
      "execution_count": null,
      "outputs": [
        {
          "output_type": "stream",
          "text": [
            "/content/drive/My Drive/Colab Notebooks\n"
          ],
          "name": "stdout"
        }
      ]
    },
    {
      "cell_type": "code",
      "metadata": {
        "colab": {
          "base_uri": "https://localhost:8080/"
        },
        "id": "5anXPx4OxDGZ",
        "outputId": "e2a23ff7-73cc-4e4f-f4ea-62e898cc7c20"
      },
      "source": [
        "ls"
      ],
      "execution_count": null,
      "outputs": [
        {
          "output_type": "stream",
          "text": [
            "ispalindrome.py    Untitled0.ipynb  Untitled2.ipynb\n",
            "pyBootUnipr.ipynb  Untitled1.ipynb  Untitled3.ipynb\n"
          ],
          "name": "stdout"
        }
      ]
    },
    {
      "cell_type": "code",
      "metadata": {
        "id": "0gzvbWmZxFHZ"
      },
      "source": [
        "import ispalindrome as ipl"
      ],
      "execution_count": null,
      "outputs": []
    },
    {
      "cell_type": "code",
      "metadata": {
        "colab": {
          "base_uri": "https://localhost:8080/"
        },
        "id": "CcjpfP96y5zp",
        "outputId": "0cbc27d5-46e7-43bc-e7ba-31bfba8f9f1f"
      },
      "source": [
        "ipl.lookForPal(\"Anna\")"
      ],
      "execution_count": null,
      "outputs": [
        {
          "output_type": "stream",
          "text": [
            "Yes its a palindrome An\n"
          ],
          "name": "stdout"
        },
        {
          "output_type": "execute_result",
          "data": {
            "text/plain": [
              "1"
            ]
          },
          "metadata": {
            "tags": []
          },
          "execution_count": 235
        }
      ]
    },
    {
      "cell_type": "markdown",
      "metadata": {
        "id": "DIoZK4eVz6Rj"
      },
      "source": [
        "#Exercise: download and read a file\n",
        "\n",
        "---\n",
        "\n"
      ]
    },
    {
      "cell_type": "code",
      "metadata": {
        "colab": {
          "base_uri": "https://localhost:8080/"
        },
        "id": "oAwX37yfz-kq",
        "outputId": "7e9d6b37-03fe-4742-c8ec-d999158b2bd3"
      },
      "source": [
        "!curl -O https://raw.githubusercontent.com/fedhere/PyBOOT/master/busBusses.npy  #! at the beginning for run unic command on the shell"
      ],
      "execution_count": null,
      "outputs": [
        {
          "output_type": "stream",
          "text": [
            "  % Total    % Received % Xferd  Average Speed   Time    Time     Time  Current\n",
            "                                 Dload  Upload   Total   Spent    Left  Speed\n",
            "\r  0     0    0     0    0     0      0      0 --:--:-- --:--:-- --:--:--     0\r  0     0    0     0    0     0      0      0 --:--:-- --:--:-- --:--:--     0\r100   240  100   240    0     0   2891      0 --:--:-- --:--:-- --:--:--  2857\n"
          ],
          "name": "stdout"
        }
      ]
    },
    {
      "cell_type": "code",
      "metadata": {
        "colab": {
          "base_uri": "https://localhost:8080/"
        },
        "id": "8rrBAlr-1Jmr",
        "outputId": "ac773961-e018-41bc-93e8-f58bc7844be4"
      },
      "source": [
        "ls"
      ],
      "execution_count": null,
      "outputs": [
        {
          "output_type": "stream",
          "text": [
            "busBusses.npy  ispalindrome.py  pyBootUnipr.ipynb  \u001b[0m\u001b[01;34m__pycache__\u001b[0m/\n"
          ],
          "name": "stdout"
        }
      ]
    },
    {
      "cell_type": "code",
      "metadata": {
        "colab": {
          "base_uri": "https://localhost:8080/"
        },
        "id": "BouC_yF91PIN",
        "outputId": "c1f94a11-7fc2-4b56-82f3-473fa5882844"
      },
      "source": [
        "!curl -O https://raw.githubusercontent.com/fedhere/PyBOOT/master/busTimeTable.npy"
      ],
      "execution_count": null,
      "outputs": [
        {
          "output_type": "stream",
          "text": [
            "  % Total    % Received % Xferd  Average Speed   Time    Time     Time  Current\n",
            "                                 Dload  Upload   Total   Spent    Left  Speed\n",
            "\r  0     0    0     0    0     0      0      0 --:--:-- --:--:-- --:--:--     0\r100  1680  100  1680    0     0  10500      0 --:--:-- --:--:-- --:--:-- 10500\n"
          ],
          "name": "stdout"
        }
      ]
    },
    {
      "cell_type": "code",
      "metadata": {
        "colab": {
          "base_uri": "https://localhost:8080/"
        },
        "id": "6PeOC76B1ZPM",
        "outputId": "c5431799-fcb5-4d35-abd6-6fac648f1013"
      },
      "source": [
        "ls"
      ],
      "execution_count": null,
      "outputs": [
        {
          "output_type": "stream",
          "text": [
            "busBusses.npy     ispalindrome.py    \u001b[0m\u001b[01;34m__pycache__\u001b[0m/\n",
            "busTimeTable.npy  pyBootUnipr.ipynb\n"
          ],
          "name": "stdout"
        }
      ]
    },
    {
      "cell_type": "code",
      "metadata": {
        "id": "EyR6Ad5t1bZi"
      },
      "source": [
        "tt = np.load(\"busTimeTable.npy\")"
      ],
      "execution_count": null,
      "outputs": []
    },
    {
      "cell_type": "code",
      "metadata": {
        "id": "61q-EkUf1muW"
      },
      "source": [
        "busses = np.load(\"busBusses.npy\")"
      ],
      "execution_count": null,
      "outputs": []
    },
    {
      "cell_type": "code",
      "metadata": {
        "colab": {
          "base_uri": "https://localhost:8080/"
        },
        "id": "laPjJdjI1sNa",
        "outputId": "bf1581ec-32a9-4a58-8020-205d58227e52"
      },
      "source": [
        "busses.dtype"
      ],
      "execution_count": null,
      "outputs": [
        {
          "output_type": "execute_result",
          "data": {
            "text/plain": [
              "dtype('int64')"
            ]
          },
          "metadata": {
            "tags": []
          },
          "execution_count": 244
        }
      ]
    },
    {
      "cell_type": "code",
      "metadata": {
        "colab": {
          "base_uri": "https://localhost:8080/"
        },
        "id": "-DNCGaoj1vlX",
        "outputId": "6eacbb7a-2a5a-4545-e899-b91ae8c9d5ed"
      },
      "source": [
        "busses.shape"
      ],
      "execution_count": null,
      "outputs": [
        {
          "output_type": "execute_result",
          "data": {
            "text/plain": [
              "(20,)"
            ]
          },
          "metadata": {
            "tags": []
          },
          "execution_count": 246
        }
      ]
    },
    {
      "cell_type": "code",
      "metadata": {
        "colab": {
          "base_uri": "https://localhost:8080/"
        },
        "id": "LfmfP5hA1y-o",
        "outputId": "29aedbb9-e1e4-4ff1-ae31-29730125bacc"
      },
      "source": [
        "tt.shape  #20 busses and 10 hours of the day"
      ],
      "execution_count": null,
      "outputs": [
        {
          "output_type": "execute_result",
          "data": {
            "text/plain": [
              "(20, 10)"
            ]
          },
          "metadata": {
            "tags": []
          },
          "execution_count": 247
        }
      ]
    },
    {
      "cell_type": "code",
      "metadata": {
        "colab": {
          "base_uri": "https://localhost:8080/"
        },
        "id": "_eC0vAj311Io",
        "outputId": "fa82d4e6-acfa-47b3-86a3-9f5bf4ff29e4"
      },
      "source": [
        "tt"
      ],
      "execution_count": null,
      "outputs": [
        {
          "output_type": "execute_result",
          "data": {
            "text/plain": [
              "array([[ 91.82869011,  72.99278771,  96.74459251,  73.41298391,\n",
              "         85.58215726, 101.38226456,  96.97680737,  95.56072596,\n",
              "         77.87195303,  78.37553397],\n",
              "       [ 61.03022409,  60.00463334,  67.86228679,  41.10873249,\n",
              "         53.37659575,  36.91790247,  53.62835897,  55.73660035,\n",
              "         58.56814116,  54.98889748],\n",
              "       [ 60.98477297,  45.55742203,  45.88400007,  66.16346096,\n",
              "         60.03163411,  50.85322708,  45.37677315,  53.8142472 ,\n",
              "         54.54569551,  60.64418839],\n",
              "       [ 87.98620643,  55.8021912 ,  81.02751282,  66.19019631,\n",
              "         53.30000683,  67.55780543,  74.38103569,  71.13924744,\n",
              "         87.67477883,  67.09783283],\n",
              "       [ 73.8097995 ,  79.25914025,  86.31085813,  99.77766307,\n",
              "         90.29078454,  84.37561182,  95.84112464,  84.50840611,\n",
              "         97.12166748, 105.17515918],\n",
              "       [ 77.14467806,  71.12444623,  52.12373301,  73.45946947,\n",
              "         91.36942688,  72.86854378,  68.71403738,  72.43112835,\n",
              "         61.79702835,  72.26935691],\n",
              "       [ 86.30704523, 102.23174241, 113.01884237,  95.69827044,\n",
              "         98.59959209, 114.93276158, 104.41133895, 105.50238628,\n",
              "         93.35943062,  98.78277939],\n",
              "       [ 74.71226929,  80.97147937,  89.16214966,  70.2307603 ,\n",
              "         81.4312056 ,  78.3874604 ,  78.96898309,  72.10555491,\n",
              "         55.51923827,  79.02316128],\n",
              "       [ 77.92696605,  92.77956675,  69.3108149 ,  61.53129422,\n",
              "         70.65140894,  76.97932739,  73.41862304,  84.09255185,\n",
              "         63.36670996,  67.99069123],\n",
              "       [ 49.24024409,  67.65617269,  61.19613048,  51.40181978,\n",
              "         44.90729398,  68.52445254,  78.97249561,  52.57678652,\n",
              "         53.74647403,  54.37398039],\n",
              "       [ 59.18999377,  70.37804103,  48.60766952,  81.46181456,\n",
              "         64.85214737,  65.33415395,  58.19399315,  61.38295111,\n",
              "         57.04243639,  59.63865558],\n",
              "       [ 75.12543348, 106.12441583,  85.73822318,  85.38739475,\n",
              "         67.688885  ,  78.10374313,  85.17605977,  80.99901671,\n",
              "         87.65882487,  86.52981761],\n",
              "       [ 63.75814098,  53.37348145,  70.99872588,  77.81639011,\n",
              "         62.0375387 ,  56.34111999,  68.85249945,  55.82441791,\n",
              "         68.08625797,  72.10975084],\n",
              "       [ 15.59478274,  33.19279169,  35.26912395,  30.90715331,\n",
              "         56.00936929,  32.58024267,  46.41792735,  42.82946792,\n",
              "         43.28099373,  49.37757159],\n",
              "       [ 46.16732427,  81.31977757,  75.50469581,  65.69300662,\n",
              "         56.53048576,  56.31828323,  49.76376656,  56.47451759,\n",
              "         65.87847643,  61.13387985],\n",
              "       [ 77.280952  ,  76.29909699,  73.30769388,  96.05834373,\n",
              "         89.29221424,  87.4965901 ,  65.51103779,  85.00879678,\n",
              "         83.01854661,  70.11890182],\n",
              "       [ 60.22412814,  51.24633613,  29.71850033,  47.59939621,\n",
              "         61.07689437,  58.55899776,  40.75295312,  54.98036344,\n",
              "         52.91969315,  44.25847756],\n",
              "       [ 48.79074854,  61.22026506,  60.92437628,  60.83824996,\n",
              "         53.31451393,  53.76179385,  52.20652832,  65.24639906,\n",
              "         18.21655529,  66.6490358 ],\n",
              "       [ 71.92154159,  80.80014634,  67.85942205,  61.04740331,\n",
              "         58.18359773,  66.40353147,  77.43164409,  74.96692462,\n",
              "         69.20014753,  80.85366556],\n",
              "       [ 78.79188234,  89.45851705,  70.64935937,  58.27493978,\n",
              "         68.58490247,  89.96935633,  66.60290963,  65.79740182,\n",
              "         70.80114802,  75.60585109]])"
            ]
          },
          "metadata": {
            "tags": []
          },
          "execution_count": 248
        }
      ]
    },
    {
      "cell_type": "markdown",
      "metadata": {
        "id": "su6G1bzh2AP6"
      },
      "source": [
        "1. Create an array of times of the day from 1 to 10 (size 10)\n",
        "2. Find the bus that on average takes the longesr trips\n",
        "3. Find the hour of the day when the busses take the longest time"
      ]
    },
    {
      "cell_type": "code",
      "metadata": {
        "colab": {
          "base_uri": "https://localhost:8080/"
        },
        "id": "Lm6y0YlG2aTW",
        "outputId": "811fef90-2818-42bc-ccdd-b370c26b2b70"
      },
      "source": [
        "TimeArray = np.arange(1,11)\n",
        "TimeArray"
      ],
      "execution_count": null,
      "outputs": [
        {
          "output_type": "execute_result",
          "data": {
            "text/plain": [
              "array([ 1,  2,  3,  4,  5,  6,  7,  8,  9, 10])"
            ]
          },
          "metadata": {
            "tags": []
          },
          "execution_count": 274
        }
      ]
    },
    {
      "cell_type": "code",
      "metadata": {
        "colab": {
          "base_uri": "https://localhost:8080/"
        },
        "id": "fWnHsij14bB-",
        "outputId": "2092919e-1757-4f67-e132-b12c26943385"
      },
      "source": [
        "for i in range(20):\n",
        "  print(np.mean(tt[i,:]))"
      ],
      "execution_count": null,
      "outputs": [
        {
          "output_type": "stream",
          "text": [
            "87.07284963898903\n",
            "54.322237288358494\n",
            "54.385542147083335\n",
            "71.2156813804343\n",
            "89.64702147297388\n",
            "71.3301848406592\n",
            "101.28441893639999\n",
            "76.05122621836132\n",
            "73.80479543130222\n",
            "58.2595850117266\n",
            "62.608185642510435\n",
            "83.85318143198947\n",
            "64.91983232618155\n",
            "38.54594242453196\n",
            "61.47842136879526\n",
            "80.33921739349157\n",
            "50.1335740209887\n",
            "54.11684660851904\n",
            "70.86680242959189\n",
            "73.45362678871754\n"
          ],
          "name": "stdout"
        }
      ]
    },
    {
      "cell_type": "markdown",
      "metadata": {
        "id": "6SMcYirS45CK"
      },
      "source": [
        "#Correzione:\n",
        "## The tecnique of selecting elements of an array based on a conditioni by passing an array (list) of bool variables as an indes is called \"Broadcasting\""
      ]
    },
    {
      "cell_type": "code",
      "metadata": {
        "colab": {
          "base_uri": "https://localhost:8080/"
        },
        "id": "n5eDRQTh5G77",
        "outputId": "153795c3-1556-475b-bf33-e5b5675a9e2d"
      },
      "source": [
        "hours = np.arange(1,11)\n",
        "hours"
      ],
      "execution_count": null,
      "outputs": [
        {
          "output_type": "execute_result",
          "data": {
            "text/plain": [
              "array([ 1,  2,  3,  4,  5,  6,  7,  8,  9, 10])"
            ]
          },
          "metadata": {
            "tags": []
          },
          "execution_count": 284
        }
      ]
    },
    {
      "cell_type": "code",
      "metadata": {
        "colab": {
          "base_uri": "https://localhost:8080/"
        },
        "id": "Dad0Exxu5zWx",
        "outputId": "9f2c82ab-5323-4907-ce91-6a9926aeb83d"
      },
      "source": [
        "ttmean0 = tt.mean(axis=0)   #mean of all the buses\n",
        "ttmean0"
      ],
      "execution_count": null,
      "outputs": [
        {
          "output_type": "execute_result",
          "data": {
            "text/plain": [
              "array([66.89079118, 71.58962256, 69.06093555, 68.20293716, 68.35553274,\n",
              "       69.88235848, 69.07994486, 69.5488946 , 65.98370986, 70.24985942])"
            ]
          },
          "metadata": {
            "tags": []
          },
          "execution_count": 293
        }
      ]
    },
    {
      "cell_type": "code",
      "metadata": {
        "colab": {
          "base_uri": "https://localhost:8080/"
        },
        "id": "qR_QLJ735-H2",
        "outputId": "7482a0d2-362d-4857-8087-215522ef160e"
      },
      "source": [
        "ttmean1=tt.mean(axis=1)  #mean of all the hours\n",
        "ttmean1"
      ],
      "execution_count": null,
      "outputs": [
        {
          "output_type": "execute_result",
          "data": {
            "text/plain": [
              "array([ 87.07284964,  54.32223729,  54.38554215,  71.21568138,\n",
              "        89.64702147,  71.33018484, 101.28441894,  76.05122622,\n",
              "        73.80479543,  58.25958501,  62.60818564,  83.85318143,\n",
              "        64.91983233,  38.54594242,  61.47842137,  80.33921739,\n",
              "        50.13357402,  54.11684661,  70.86680243,  73.45362679])"
            ]
          },
          "metadata": {
            "tags": []
          },
          "execution_count": 294
        }
      ]
    },
    {
      "cell_type": "code",
      "metadata": {
        "colab": {
          "base_uri": "https://localhost:8080/"
        },
        "id": "cbgbQpdP6CsF",
        "outputId": "dc3eff2e-9669-4c4a-dad5-046b701c6b23"
      },
      "source": [
        "ttmean0.max()"
      ],
      "execution_count": null,
      "outputs": [
        {
          "output_type": "execute_result",
          "data": {
            "text/plain": [
              "71.58962255653003"
            ]
          },
          "metadata": {
            "tags": []
          },
          "execution_count": 295
        }
      ]
    },
    {
      "cell_type": "code",
      "metadata": {
        "colab": {
          "base_uri": "https://localhost:8080/"
        },
        "id": "mOJvNp0F6U_G",
        "outputId": "122ff96f-fcb1-4f2d-b2ab-a7d299392a2b"
      },
      "source": [
        "ttmean1.max()"
      ],
      "execution_count": null,
      "outputs": [
        {
          "output_type": "execute_result",
          "data": {
            "text/plain": [
              "101.28441893639999"
            ]
          },
          "metadata": {
            "tags": []
          },
          "execution_count": 296
        }
      ]
    },
    {
      "cell_type": "code",
      "metadata": {
        "colab": {
          "base_uri": "https://localhost:8080/"
        },
        "id": "D368jGWk6b3o",
        "outputId": "1251ca74-6e67-4747-ddcc-9f2741da86b9"
      },
      "source": [
        "ttmean0 == ttmean0.max()"
      ],
      "execution_count": null,
      "outputs": [
        {
          "output_type": "execute_result",
          "data": {
            "text/plain": [
              "array([False,  True, False, False, False, False, False, False, False,\n",
              "       False])"
            ]
          },
          "metadata": {
            "tags": []
          },
          "execution_count": 297
        }
      ]
    },
    {
      "cell_type": "code",
      "metadata": {
        "colab": {
          "base_uri": "https://localhost:8080/"
        },
        "id": "TlIhRoOi6kj4",
        "outputId": "4e1f6c67-1c3f-486c-d8b5-37a73905cf8a"
      },
      "source": [
        "ttmean0[ttmean0 == ttmean0.max()]  "
      ],
      "execution_count": null,
      "outputs": [
        {
          "output_type": "execute_result",
          "data": {
            "text/plain": [
              "array([71.58962256])"
            ]
          },
          "metadata": {
            "tags": []
          },
          "execution_count": 298
        }
      ]
    },
    {
      "cell_type": "code",
      "metadata": {
        "colab": {
          "base_uri": "https://localhost:8080/"
        },
        "id": "6h6IGoWq6w2F",
        "outputId": "ab67af3a-2d0e-4c2b-f7ad-91b0fdada0b7"
      },
      "source": [
        "print(hours)\n",
        "hours[ttmean0 == ttmean0.max()]  "
      ],
      "execution_count": null,
      "outputs": [
        {
          "output_type": "stream",
          "text": [
            "[ 1  2  3  4  5  6  7  8  9 10]\n"
          ],
          "name": "stdout"
        },
        {
          "output_type": "execute_result",
          "data": {
            "text/plain": [
              "array([2])"
            ]
          },
          "metadata": {
            "tags": []
          },
          "execution_count": 302
        }
      ]
    },
    {
      "cell_type": "code",
      "metadata": {
        "colab": {
          "base_uri": "https://localhost:8080/"
        },
        "id": "Xwg_hcig65Xt",
        "outputId": "584aca06-5791-4d10-ee74-bc2f7da4d6cb"
      },
      "source": [
        "busses[ttmean1 == ttmean1.max()]"
      ],
      "execution_count": null,
      "outputs": [
        {
          "output_type": "execute_result",
          "data": {
            "text/plain": [
              "array([86])"
            ]
          },
          "metadata": {
            "tags": []
          },
          "execution_count": 305
        }
      ]
    },
    {
      "cell_type": "markdown",
      "metadata": {
        "id": "41J6J5757l_v"
      },
      "source": [
        "#Plot stuff"
      ]
    },
    {
      "cell_type": "code",
      "metadata": {
        "colab": {
          "base_uri": "https://localhost:8080/",
          "height": 231
        },
        "id": "PxTtq5mB7phR",
        "outputId": "b85ee132-7350-48ff-c5b4-20647b76a6f3"
      },
      "source": [
        "import pylab as plt\n",
        "plt.plot(hours,tt[0],color=\"Green\", alpha=0.5)\n",
        "plt.plot(hours,tt[1],color=\"Green\", alpha=1)\n",
        "plt.xlabel('x')\n",
        "plt.ylabel('y')"
      ],
      "execution_count": null,
      "outputs": [
        {
          "output_type": "error",
          "ename": "NameError",
          "evalue": "ignored",
          "traceback": [
            "\u001b[0;31m---------------------------------------------------------------------------\u001b[0m",
            "\u001b[0;31mNameError\u001b[0m                                 Traceback (most recent call last)",
            "\u001b[0;32m<ipython-input-3-97f9e135e2d9>\u001b[0m in \u001b[0;36m<module>\u001b[0;34m()\u001b[0m\n\u001b[1;32m      1\u001b[0m \u001b[0;32mimport\u001b[0m \u001b[0mpylab\u001b[0m \u001b[0;32mas\u001b[0m \u001b[0mplt\u001b[0m\u001b[0;34m\u001b[0m\u001b[0;34m\u001b[0m\u001b[0m\n\u001b[0;32m----> 2\u001b[0;31m \u001b[0mplt\u001b[0m\u001b[0;34m.\u001b[0m\u001b[0mplot\u001b[0m\u001b[0;34m(\u001b[0m\u001b[0mhours\u001b[0m\u001b[0;34m,\u001b[0m\u001b[0mtt\u001b[0m\u001b[0;34m[\u001b[0m\u001b[0;36m0\u001b[0m\u001b[0;34m]\u001b[0m\u001b[0;34m,\u001b[0m\u001b[0mcolor\u001b[0m\u001b[0;34m=\u001b[0m\u001b[0;34m\"Green\"\u001b[0m\u001b[0;34m,\u001b[0m \u001b[0malpha\u001b[0m\u001b[0;34m=\u001b[0m\u001b[0;36m0.5\u001b[0m\u001b[0;34m)\u001b[0m\u001b[0;34m\u001b[0m\u001b[0;34m\u001b[0m\u001b[0m\n\u001b[0m\u001b[1;32m      3\u001b[0m \u001b[0mplt\u001b[0m\u001b[0;34m.\u001b[0m\u001b[0mplot\u001b[0m\u001b[0;34m(\u001b[0m\u001b[0mhours\u001b[0m\u001b[0;34m,\u001b[0m\u001b[0mtt\u001b[0m\u001b[0;34m[\u001b[0m\u001b[0;36m1\u001b[0m\u001b[0;34m]\u001b[0m\u001b[0;34m,\u001b[0m\u001b[0mcolor\u001b[0m\u001b[0;34m=\u001b[0m\u001b[0;34m\"Green\"\u001b[0m\u001b[0;34m,\u001b[0m \u001b[0malpha\u001b[0m\u001b[0;34m=\u001b[0m\u001b[0;36m1\u001b[0m\u001b[0;34m)\u001b[0m\u001b[0;34m\u001b[0m\u001b[0;34m\u001b[0m\u001b[0m\n\u001b[1;32m      4\u001b[0m \u001b[0mplt\u001b[0m\u001b[0;34m.\u001b[0m\u001b[0mxlabel\u001b[0m\u001b[0;34m(\u001b[0m\u001b[0;34m'x'\u001b[0m\u001b[0;34m)\u001b[0m\u001b[0;34m\u001b[0m\u001b[0;34m\u001b[0m\u001b[0m\n\u001b[1;32m      5\u001b[0m \u001b[0mplt\u001b[0m\u001b[0;34m.\u001b[0m\u001b[0mylabel\u001b[0m\u001b[0;34m(\u001b[0m\u001b[0;34m'y'\u001b[0m\u001b[0;34m)\u001b[0m\u001b[0;34m\u001b[0m\u001b[0;34m\u001b[0m\u001b[0m\n",
            "\u001b[0;31mNameError\u001b[0m: name 'hours' is not defined"
          ]
        }
      ]
    },
    {
      "cell_type": "code",
      "metadata": {
        "colab": {
          "base_uri": "https://localhost:8080/",
          "height": 231
        },
        "id": "zceVz0UR8aRi",
        "outputId": "ce24d31e-67bd-4b4e-89d1-8a135fd7b0de"
      },
      "source": [
        "fig=plt.figure()\n",
        "ax1=fig.add_subplot(121)\n",
        "ax2=fig.add_subplot(122)\n",
        "ax1.set_xlabel(\"some range\")\n",
        "ax2.set_ylabel(\"some range\")"
      ],
      "execution_count": null,
      "outputs": [
        {
          "output_type": "error",
          "ename": "NameError",
          "evalue": "ignored",
          "traceback": [
            "\u001b[0;31m---------------------------------------------------------------------------\u001b[0m",
            "\u001b[0;31mNameError\u001b[0m                                 Traceback (most recent call last)",
            "\u001b[0;32m<ipython-input-2-2b9341349d02>\u001b[0m in \u001b[0;36m<module>\u001b[0;34m()\u001b[0m\n\u001b[0;32m----> 1\u001b[0;31m \u001b[0mfig\u001b[0m\u001b[0;34m=\u001b[0m\u001b[0mplt\u001b[0m\u001b[0;34m.\u001b[0m\u001b[0mfigure\u001b[0m\u001b[0;34m(\u001b[0m\u001b[0;34m)\u001b[0m\u001b[0;34m\u001b[0m\u001b[0;34m\u001b[0m\u001b[0m\n\u001b[0m\u001b[1;32m      2\u001b[0m \u001b[0max1\u001b[0m\u001b[0;34m=\u001b[0m\u001b[0mfig\u001b[0m\u001b[0;34m.\u001b[0m\u001b[0madd_subplot\u001b[0m\u001b[0;34m(\u001b[0m\u001b[0;36m121\u001b[0m\u001b[0;34m)\u001b[0m\u001b[0;34m\u001b[0m\u001b[0;34m\u001b[0m\u001b[0m\n\u001b[1;32m      3\u001b[0m \u001b[0max2\u001b[0m\u001b[0;34m=\u001b[0m\u001b[0mfig\u001b[0m\u001b[0;34m.\u001b[0m\u001b[0madd_subplot\u001b[0m\u001b[0;34m(\u001b[0m\u001b[0;36m122\u001b[0m\u001b[0;34m)\u001b[0m\u001b[0;34m\u001b[0m\u001b[0;34m\u001b[0m\u001b[0m\n\u001b[1;32m      4\u001b[0m \u001b[0max1\u001b[0m\u001b[0;34m.\u001b[0m\u001b[0mset_xlabel\u001b[0m\u001b[0;34m(\u001b[0m\u001b[0;34m\"some range\"\u001b[0m\u001b[0;34m)\u001b[0m\u001b[0;34m\u001b[0m\u001b[0;34m\u001b[0m\u001b[0m\n\u001b[1;32m      5\u001b[0m \u001b[0max2\u001b[0m\u001b[0;34m.\u001b[0m\u001b[0mset_ylabel\u001b[0m\u001b[0;34m(\u001b[0m\u001b[0;34m\"some range\"\u001b[0m\u001b[0;34m)\u001b[0m\u001b[0;34m\u001b[0m\u001b[0;34m\u001b[0m\u001b[0m\n",
            "\u001b[0;31mNameError\u001b[0m: name 'plt' is not defined"
          ]
        }
      ]
    }
  ]
}