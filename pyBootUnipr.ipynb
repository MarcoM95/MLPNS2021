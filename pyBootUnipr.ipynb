{
  "nbformat": 4,
  "nbformat_minor": 0,
  "metadata": {
    "colab": {
      "name": "pyBootUnipr.ipynb",
      "provenance": [],
      "collapsed_sections": [],
      "authorship_tag": "ABX9TyMoFzCRZHS0Xmm8bBKOynTL",
      "include_colab_link": true
    },
    "kernelspec": {
      "name": "python3",
      "display_name": "Python 3"
    }
  },
  "cells": [
    {
      "cell_type": "markdown",
      "metadata": {
        "id": "view-in-github",
        "colab_type": "text"
      },
      "source": [
        "<a href=\"https://colab.research.google.com/github/MarcoM95/MLPNS2021/blob/main/pyBootUnipr.ipynb\" target=\"_parent\"><img src=\"https://colab.research.google.com/assets/colab-badge.svg\" alt=\"Open In Colab\"/></a>"
      ]
    },
    {
      "cell_type": "code",
      "metadata": {
        "colab": {
          "base_uri": "https://localhost:8080/"
        },
        "id": "9aZ0-jsIdC2j",
        "outputId": "f730b44d-e9ca-43a4-f842-a8bdadb05174"
      },
      "source": [
        "print(\"hello\")"
      ],
      "execution_count": 44,
      "outputs": [
        {
          "output_type": "stream",
          "text": [
            "hello\n"
          ],
          "name": "stdout"
        }
      ]
    },
    {
      "cell_type": "code",
      "metadata": {
        "id": "_xy5BSl4eg8M"
      },
      "source": [
        "from __future__ import print_function, division "
      ],
      "execution_count": 45,
      "outputs": []
    },
    {
      "cell_type": "code",
      "metadata": {
        "colab": {
          "base_uri": "https://localhost:8080/"
        },
        "id": "I8kQM37-f5Mj",
        "outputId": "5ea94f0f-f45b-4fc9-84bf-1cfa9cb27659"
      },
      "source": [
        "stringVariable=\"hello\"\r\n",
        "print(stringVariable)\r\n"
      ],
      "execution_count": 46,
      "outputs": [
        {
          "output_type": "stream",
          "text": [
            "hello\n"
          ],
          "name": "stdout"
        }
      ]
    },
    {
      "cell_type": "code",
      "metadata": {
        "id": "2bbEFyoQg87D"
      },
      "source": [
        "intVariable=3"
      ],
      "execution_count": 47,
      "outputs": []
    },
    {
      "cell_type": "code",
      "metadata": {
        "colab": {
          "base_uri": "https://localhost:8080/"
        },
        "id": "dsQiZX2zg_cS",
        "outputId": "97c75c54-ea39-4528-f5d7-a1378f4da43a"
      },
      "source": [
        "type(stringVariable)"
      ],
      "execution_count": 48,
      "outputs": [
        {
          "output_type": "execute_result",
          "data": {
            "text/plain": [
              "str"
            ]
          },
          "metadata": {
            "tags": []
          },
          "execution_count": 48
        }
      ]
    },
    {
      "cell_type": "code",
      "metadata": {
        "id": "c1uw8K9rhGby"
      },
      "source": [
        "floatVariable=3.\r\n"
      ],
      "execution_count": 49,
      "outputs": []
    },
    {
      "cell_type": "code",
      "metadata": {
        "colab": {
          "base_uri": "https://localhost:8080/"
        },
        "id": "mCgvRTvrhO0V",
        "outputId": "36fffb8c-7c6d-4f69-b3fe-21023035ae86"
      },
      "source": [
        "type(floatVariable)"
      ],
      "execution_count": 50,
      "outputs": [
        {
          "output_type": "execute_result",
          "data": {
            "text/plain": [
              "float"
            ]
          },
          "metadata": {
            "tags": []
          },
          "execution_count": 50
        }
      ]
    },
    {
      "cell_type": "code",
      "metadata": {
        "id": "E-A6mbzKhRhb",
        "colab": {
          "base_uri": "https://localhost:8080/"
        },
        "outputId": "e8c81938-56d1-41e5-be7b-80f174b92473"
      },
      "source": [
        "5*2"
      ],
      "execution_count": 51,
      "outputs": [
        {
          "output_type": "execute_result",
          "data": {
            "text/plain": [
              "10"
            ]
          },
          "metadata": {
            "tags": []
          },
          "execution_count": 51
        }
      ]
    },
    {
      "cell_type": "code",
      "metadata": {
        "colab": {
          "base_uri": "https://localhost:8080/"
        },
        "id": "Ic6bCrR4hf7S",
        "outputId": "f83b0b21-9e9f-490c-a290-d19861c56b32"
      },
      "source": [
        "boolVar=True\r\n",
        "boolVar"
      ],
      "execution_count": 52,
      "outputs": [
        {
          "output_type": "execute_result",
          "data": {
            "text/plain": [
              "True"
            ]
          },
          "metadata": {
            "tags": []
          },
          "execution_count": 52
        }
      ]
    },
    {
      "cell_type": "code",
      "metadata": {
        "colab": {
          "base_uri": "https://localhost:8080/"
        },
        "id": "kDcqzFHzifRi",
        "outputId": "e1ad1006-3aea-4c5f-b693-eb14a1f13ac0"
      },
      "source": [
        "type(floatVariable) == float"
      ],
      "execution_count": 53,
      "outputs": [
        {
          "output_type": "execute_result",
          "data": {
            "text/plain": [
              "True"
            ]
          },
          "metadata": {
            "tags": []
          },
          "execution_count": 53
        }
      ]
    },
    {
      "cell_type": "code",
      "metadata": {
        "id": "U46vS11EinI8"
      },
      "source": [
        ""
      ],
      "execution_count": 53,
      "outputs": []
    },
    {
      "cell_type": "code",
      "metadata": {
        "colab": {
          "base_uri": "https://localhost:8080/"
        },
        "id": "yLNArzmyic9B",
        "outputId": "bdf6bdfe-f8f2-449d-a6fc-bec33e52b660"
      },
      "source": [
        "type(floatVariable)"
      ],
      "execution_count": 54,
      "outputs": [
        {
          "output_type": "execute_result",
          "data": {
            "text/plain": [
              "float"
            ]
          },
          "metadata": {
            "tags": []
          },
          "execution_count": 54
        }
      ]
    },
    {
      "cell_type": "code",
      "metadata": {
        "id": "lHQFizALjmhK"
      },
      "source": [
        ""
      ],
      "execution_count": 54,
      "outputs": []
    },
    {
      "cell_type": "code",
      "metadata": {
        "colab": {
          "base_uri": "https://localhost:8080/"
        },
        "id": "Zb6hhnZ3j4hK",
        "outputId": "3e192f65-524d-43b1-e59d-002302357552"
      },
      "source": [
        "num = 3\r\n",
        "\r\n",
        "# Try these two variations as well. \r\n",
        "# num = -5\r\n",
        "# num = 0\r\n",
        "\r\n",
        "if num >= 0:\r\n",
        "    print(\"Positive or Zero\")\r\n",
        "else:\r\n",
        "    print(\"Negative number\")"
      ],
      "execution_count": 55,
      "outputs": [
        {
          "output_type": "stream",
          "text": [
            "Positive or Zero\n"
          ],
          "name": "stdout"
        }
      ]
    },
    {
      "cell_type": "markdown",
      "metadata": {
        "id": "LBlo6LPnVzbm"
      },
      "source": [
        "# Nuova sezione"
      ]
    },
    {
      "cell_type": "code",
      "metadata": {
        "colab": {
          "base_uri": "https://localhost:8080/"
        },
        "id": "x060al4Bj5nT",
        "outputId": "3b6e4cd5-4ee1-4827-98e8-e7ee629cc7c0"
      },
      "source": [
        "a=0\r\n",
        "while a is not 10:\r\n",
        "  a=a+1\r\n",
        "  print(a)"
      ],
      "execution_count": 56,
      "outputs": [
        {
          "output_type": "stream",
          "text": [
            "1\n",
            "2\n",
            "3\n",
            "4\n",
            "5\n",
            "6\n",
            "7\n",
            "8\n",
            "9\n",
            "10\n"
          ],
          "name": "stdout"
        }
      ]
    },
    {
      "cell_type": "markdown",
      "metadata": {
        "id": "SmXcP0tBXfOj"
      },
      "source": [
        "#Native python variables"
      ]
    },
    {
      "cell_type": "code",
      "metadata": {
        "id": "TkSdFNHtXmq8"
      },
      "source": [
        "stringVariable = \"hello\"\r\n",
        "intVariable    = 3\r\n",
        "floatVariable  = 3."
      ],
      "execution_count": 57,
      "outputs": []
    },
    {
      "cell_type": "code",
      "metadata": {
        "id": "0WQqPyoAZ3No"
      },
      "source": [
        ""
      ],
      "execution_count": null,
      "outputs": []
    },
    {
      "cell_type": "markdown",
      "metadata": {
        "id": "34nsF7uoaNOI"
      },
      "source": [
        "# variable containers"
      ]
    },
    {
      "cell_type": "code",
      "metadata": {
        "colab": {
          "base_uri": "https://localhost:8080/"
        },
        "id": "gzwTgy0-aPqu",
        "outputId": "4fad9d42-30fd-4533-d146-4ebc571021b2"
      },
      "source": [
        "myList = [0, 1, 3, \"hello\", 3.3, [0, 2, 3.3]]\r\n",
        "myList[-1]"
      ],
      "execution_count": 69,
      "outputs": [
        {
          "output_type": "execute_result",
          "data": {
            "text/plain": [
              "[0, 2, 3.3]"
            ]
          },
          "metadata": {
            "tags": []
          },
          "execution_count": 69
        }
      ]
    },
    {
      "cell_type": "code",
      "metadata": {
        "colab": {
          "base_uri": "https://localhost:8080/",
          "height": 35
        },
        "id": "SDrQ_8cEbDOr",
        "outputId": "bc994a12-36ce-4a1e-fcbe-a8855af0a020"
      },
      "source": [
        "stringVariable[-1]"
      ],
      "execution_count": 71,
      "outputs": [
        {
          "output_type": "execute_result",
          "data": {
            "application/vnd.google.colaboratory.intrinsic+json": {
              "type": "string"
            },
            "text/plain": [
              "'o'"
            ]
          },
          "metadata": {
            "tags": []
          },
          "execution_count": 71
        }
      ]
    },
    {
      "cell_type": "code",
      "metadata": {
        "colab": {
          "base_uri": "https://localhost:8080/",
          "height": 35
        },
        "id": "bMvGZaahbPfQ",
        "outputId": "640f6062-44f0-4db3-d81c-33ef2b2f6e52"
      },
      "source": [
        "stringVariable + stringVariable"
      ],
      "execution_count": 72,
      "outputs": [
        {
          "output_type": "execute_result",
          "data": {
            "application/vnd.google.colaboratory.intrinsic+json": {
              "type": "string"
            },
            "text/plain": [
              "'hellohello'"
            ]
          },
          "metadata": {
            "tags": []
          },
          "execution_count": 72
        }
      ]
    },
    {
      "cell_type": "code",
      "metadata": {
        "colab": {
          "base_uri": "https://localhost:8080/"
        },
        "id": "BJldBvbKbYea",
        "outputId": "acfbb5b3-65e2-4b44-fd30-030582407731"
      },
      "source": [
        "tmpList = []\r\n",
        "a = 0;\r\n",
        "while a**2 < 300:\r\n",
        "  a = a+1\r\n",
        "  tmpList.append(a**2)\r\n",
        "tmpList"
      ],
      "execution_count": 78,
      "outputs": [
        {
          "output_type": "execute_result",
          "data": {
            "text/plain": [
              "[1, 4, 9, 16, 25, 36, 49, 64, 81, 100, 121, 144, 169, 196, 225, 256, 289, 324]"
            ]
          },
          "metadata": {
            "tags": []
          },
          "execution_count": 78
        }
      ]
    },
    {
      "cell_type": "markdown",
      "metadata": {
        "id": "TYReYVgbchNI"
      },
      "source": [
        "List are very useful bcs they contain hybrid types and they do not need to be allocated memory before they are filled so I can append things on the fly. List are also computationally inefficient."
      ]
    },
    {
      "cell_type": "code",
      "metadata": {
        "colab": {
          "base_uri": "https://localhost:8080/"
        },
        "id": "8m6kjHondJ80",
        "outputId": "0adeb8e8-bfb0-47d6-82c6-c880fef3b4cf"
      },
      "source": [
        "dictVariable = {\"keyInt\": 0,\r\n",
        "                \"keyFloat\": 0.3,\r\n",
        "                \"keyString\":\"I am a string\",\r\n",
        "                \"keyDict\": {} }\r\n",
        "dictVariable"
      ],
      "execution_count": 84,
      "outputs": [
        {
          "output_type": "execute_result",
          "data": {
            "text/plain": [
              "{'keyDict': {}, 'keyFloat': 0.3, 'keyInt': 0, 'keyString': 'I am a string'}"
            ]
          },
          "metadata": {
            "tags": []
          },
          "execution_count": 84
        }
      ]
    },
    {
      "cell_type": "code",
      "metadata": {
        "id": "X-7C53aieI5f"
      },
      "source": [
        "stringVariable=\"hello!\"\r\n"
      ],
      "execution_count": 85,
      "outputs": []
    },
    {
      "cell_type": "code",
      "metadata": {
        "colab": {
          "base_uri": "https://localhost:8080/",
          "height": 35
        },
        "id": "aiRXkZ2ifg4e",
        "outputId": "8efae9b1-bf9e-4206-b568-b88fd9350242"
      },
      "source": [
        "stringVariable.capitalize()"
      ],
      "execution_count": 86,
      "outputs": [
        {
          "output_type": "execute_result",
          "data": {
            "application/vnd.google.colaboratory.intrinsic+json": {
              "type": "string"
            },
            "text/plain": [
              "'Hello!'"
            ]
          },
          "metadata": {
            "tags": []
          },
          "execution_count": 86
        }
      ]
    },
    {
      "cell_type": "code",
      "metadata": {
        "colab": {
          "base_uri": "https://localhost:8080/",
          "height": 35
        },
        "id": "0HvmjlUGf_jK",
        "outputId": "ee5ca036-2cd5-4cbe-f143-a633953bae4b"
      },
      "source": [
        "stringVariable"
      ],
      "execution_count": 87,
      "outputs": [
        {
          "output_type": "execute_result",
          "data": {
            "application/vnd.google.colaboratory.intrinsic+json": {
              "type": "string"
            },
            "text/plain": [
              "'hello!'"
            ]
          },
          "metadata": {
            "tags": []
          },
          "execution_count": 87
        }
      ]
    },
    {
      "cell_type": "code",
      "metadata": {
        "colab": {
          "base_uri": "https://localhost:8080/",
          "height": 35
        },
        "id": "bBC4ZXhbgCbd",
        "outputId": "1aad7154-2b7c-4923-c8c0-3adee9888e65"
      },
      "source": [
        "stringVariable.replace(\"!\",'')"
      ],
      "execution_count": 89,
      "outputs": [
        {
          "output_type": "execute_result",
          "data": {
            "application/vnd.google.colaboratory.intrinsic+json": {
              "type": "string"
            },
            "text/plain": [
              "'hello'"
            ]
          },
          "metadata": {
            "tags": []
          },
          "execution_count": 89
        }
      ]
    },
    {
      "cell_type": "code",
      "metadata": {
        "id": "DgzPkqtJgTRW"
      },
      "source": [
        ""
      ],
      "execution_count": null,
      "outputs": []
    }
  ]
}