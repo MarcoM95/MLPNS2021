{
  "nbformat": 4,
  "nbformat_minor": 0,
  "metadata": {
    "colab": {
      "name": "MLNPS_Ztestpandas.ipynb",
      "provenance": [],
      "collapsed_sections": [],
      "include_colab_link": true
    },
    "kernelspec": {
      "name": "python3",
      "display_name": "Python 3"
    },
    "language_info": {
      "name": "python"
    }
  },
  "cells": [
    {
      "cell_type": "markdown",
      "metadata": {
        "id": "view-in-github",
        "colab_type": "text"
      },
      "source": [
        "<a href=\"https://colab.research.google.com/github/MarcoM95/MLPNS2021/blob/main/MLNPS_Ztestpandas.ipynb\" target=\"_parent\"><img src=\"https://colab.research.google.com/assets/colab-badge.svg\" alt=\"Open In Colab\"/></a>"
      ]
    },
    {
      "cell_type": "code",
      "metadata": {
        "colab": {
          "base_uri": "https://localhost:8080/"
        },
        "id": "zYeYaORLJz2M",
        "outputId": "9e117daa-f885-4b00-fe25-a72c0ac20879"
      },
      "source": [
        "import pandas as pd\n",
        "%pylab inline"
      ],
      "execution_count": 239,
      "outputs": [
        {
          "output_type": "stream",
          "text": [
            "Populating the interactive namespace from numpy and matplotlib\n"
          ],
          "name": "stdout"
        },
        {
          "output_type": "stream",
          "text": [
            "/usr/local/lib/python3.7/dist-packages/IPython/core/magics/pylab.py:161: UserWarning: pylab import has clobbered these variables: ['sample']\n",
            "`%matplotlib` prevents importing * from pylab and numpy\n",
            "  \"\\n`%matplotlib` prevents importing * from pylab and numpy\"\n"
          ],
          "name": "stderr"
        }
      ]
    },
    {
      "cell_type": "markdown",
      "metadata": {
        "id": "SQd2HLsUJ5N-"
      },
      "source": [
        "I extracted precipitations records for Willmington from 2000/01/01 through today. \n",
        "The goal is to extract from these data the daily precipitation starting on 2018/01/01 and assess if these data are different from a population with mean $\\mu = 0.14$ standard deviation $\\sigma= 0.38$. \n",
        "\n",
        "Set a p-value at $2\\sigma$:  $p=0.05$"
      ]
    },
    {
      "cell_type": "code",
      "metadata": {
        "id": "Q0hV8dDFJ6BW"
      },
      "source": [
        "rain = pd.read_csv(\"https://raw.githubusercontent.com/fedhere/DSPS/master/labs/1865331.csv\")"
      ],
      "execution_count": 240,
      "outputs": []
    },
    {
      "cell_type": "markdown",
      "metadata": {
        "id": "wLnSJ7lZJ7oB"
      },
      "source": [
        "\n",
        "The $Z$ statistics is : $Z = \\frac{\\bar{X} - \\mu }{s}$ and $s = \\sigma / \\sqrt(N)$ (you should know what all those symbols mean)\n",
        "\n",
        "1. Extract from the dataframe above the columns \"DATE\" and \"PRCP\" (precipitation)\n",
        "\n",
        "2. Convert the dataframe DATE from ```string``` to ```datetime``` type\n",
        " using pd.datetime() \n",
        "    \n",
        "3. Select the data rows with date later than 2018/01/01. \n",
        "    If your data type conversion worked well you should be able to set the condition as ```rain[<newcolumnname>]> pd.to_datetime(\"2018/01/01\")```\n",
        "    use the technique called \"broadcasting\" to select the rows: \n",
        "    \n",
        "    ```rain[ rain[<newcolumnname>]> pd.to_datetime(\"2018/01/01\")]``` which you can save as a new dataframe\n",
        "    \n",
        "4. Calculate the mean of the sample you created $\\bar{X}$ and plug it in  the numerator of the $Z$ statistics: $\\bar{X}- \\mu$\n",
        "\n",
        "5. Calculate the size of the sample and plug it in the formula. Now you have $Z$\n",
        "\n",
        "6. Knowing the distribution of $Z\\sim N(\\mu=0, \\sigma=1)$ and with a confidence $p=0.05$, did you find that the time period 2018/01/01---today has a statistically significant different amount of rain?  \n",
        "    "
      ]
    },
    {
      "cell_type": "code",
      "metadata": {
        "id": "l1lRuA72J90k",
        "colab": {
          "base_uri": "https://localhost:8080/",
          "height": 419
        },
        "outputId": "7bd1894c-9011-4dc5-b9e2-0b10ec7cc71e"
      },
      "source": [
        "rain"
      ],
      "execution_count": 241,
      "outputs": [
        {
          "output_type": "execute_result",
          "data": {
            "text/html": [
              "<div>\n",
              "<style scoped>\n",
              "    .dataframe tbody tr th:only-of-type {\n",
              "        vertical-align: middle;\n",
              "    }\n",
              "\n",
              "    .dataframe tbody tr th {\n",
              "        vertical-align: top;\n",
              "    }\n",
              "\n",
              "    .dataframe thead th {\n",
              "        text-align: right;\n",
              "    }\n",
              "</style>\n",
              "<table border=\"1\" class=\"dataframe\">\n",
              "  <thead>\n",
              "    <tr style=\"text-align: right;\">\n",
              "      <th></th>\n",
              "      <th>STATION</th>\n",
              "      <th>NAME</th>\n",
              "      <th>DATE</th>\n",
              "      <th>PRCP</th>\n",
              "      <th>SNOW</th>\n",
              "      <th>SNWD</th>\n",
              "      <th>WESD</th>\n",
              "      <th>WESF</th>\n",
              "    </tr>\n",
              "  </thead>\n",
              "  <tbody>\n",
              "    <tr>\n",
              "      <th>0</th>\n",
              "      <td>US1DENC0010</td>\n",
              "      <td>NEWPORT 2.4 WNW, DE US</td>\n",
              "      <td>2010-01-01</td>\n",
              "      <td>0.28</td>\n",
              "      <td>NaN</td>\n",
              "      <td>0.0</td>\n",
              "      <td>NaN</td>\n",
              "      <td>NaN</td>\n",
              "    </tr>\n",
              "    <tr>\n",
              "      <th>1</th>\n",
              "      <td>US1DENC0010</td>\n",
              "      <td>NEWPORT 2.4 WNW, DE US</td>\n",
              "      <td>2010-01-02</td>\n",
              "      <td>0.00</td>\n",
              "      <td>0.0</td>\n",
              "      <td>NaN</td>\n",
              "      <td>NaN</td>\n",
              "      <td>NaN</td>\n",
              "    </tr>\n",
              "    <tr>\n",
              "      <th>2</th>\n",
              "      <td>US1DENC0010</td>\n",
              "      <td>NEWPORT 2.4 WNW, DE US</td>\n",
              "      <td>2010-01-03</td>\n",
              "      <td>0.00</td>\n",
              "      <td>0.0</td>\n",
              "      <td>NaN</td>\n",
              "      <td>NaN</td>\n",
              "      <td>NaN</td>\n",
              "    </tr>\n",
              "    <tr>\n",
              "      <th>3</th>\n",
              "      <td>US1DENC0010</td>\n",
              "      <td>NEWPORT 2.4 WNW, DE US</td>\n",
              "      <td>2010-01-04</td>\n",
              "      <td>0.00</td>\n",
              "      <td>0.0</td>\n",
              "      <td>NaN</td>\n",
              "      <td>NaN</td>\n",
              "      <td>NaN</td>\n",
              "    </tr>\n",
              "    <tr>\n",
              "      <th>4</th>\n",
              "      <td>US1DENC0010</td>\n",
              "      <td>NEWPORT 2.4 WNW, DE US</td>\n",
              "      <td>2010-01-05</td>\n",
              "      <td>0.00</td>\n",
              "      <td>NaN</td>\n",
              "      <td>NaN</td>\n",
              "      <td>NaN</td>\n",
              "      <td>NaN</td>\n",
              "    </tr>\n",
              "    <tr>\n",
              "      <th>...</th>\n",
              "      <td>...</td>\n",
              "      <td>...</td>\n",
              "      <td>...</td>\n",
              "      <td>...</td>\n",
              "      <td>...</td>\n",
              "      <td>...</td>\n",
              "      <td>...</td>\n",
              "      <td>...</td>\n",
              "    </tr>\n",
              "    <tr>\n",
              "      <th>3533</th>\n",
              "      <td>US1DENC0010</td>\n",
              "      <td>NEWPORT 2.4 WNW, DE US</td>\n",
              "      <td>2019-09-04</td>\n",
              "      <td>0.00</td>\n",
              "      <td>0.0</td>\n",
              "      <td>NaN</td>\n",
              "      <td>NaN</td>\n",
              "      <td>NaN</td>\n",
              "    </tr>\n",
              "    <tr>\n",
              "      <th>3534</th>\n",
              "      <td>US1DENC0010</td>\n",
              "      <td>NEWPORT 2.4 WNW, DE US</td>\n",
              "      <td>2019-09-05</td>\n",
              "      <td>0.00</td>\n",
              "      <td>0.0</td>\n",
              "      <td>NaN</td>\n",
              "      <td>NaN</td>\n",
              "      <td>NaN</td>\n",
              "    </tr>\n",
              "    <tr>\n",
              "      <th>3535</th>\n",
              "      <td>US1DENC0010</td>\n",
              "      <td>NEWPORT 2.4 WNW, DE US</td>\n",
              "      <td>2019-09-06</td>\n",
              "      <td>0.00</td>\n",
              "      <td>0.0</td>\n",
              "      <td>NaN</td>\n",
              "      <td>NaN</td>\n",
              "      <td>NaN</td>\n",
              "    </tr>\n",
              "    <tr>\n",
              "      <th>3536</th>\n",
              "      <td>US1DENC0010</td>\n",
              "      <td>NEWPORT 2.4 WNW, DE US</td>\n",
              "      <td>2019-09-07</td>\n",
              "      <td>0.02</td>\n",
              "      <td>NaN</td>\n",
              "      <td>NaN</td>\n",
              "      <td>NaN</td>\n",
              "      <td>NaN</td>\n",
              "    </tr>\n",
              "    <tr>\n",
              "      <th>3537</th>\n",
              "      <td>US1DENC0010</td>\n",
              "      <td>NEWPORT 2.4 WNW, DE US</td>\n",
              "      <td>2019-09-08</td>\n",
              "      <td>0.00</td>\n",
              "      <td>0.0</td>\n",
              "      <td>NaN</td>\n",
              "      <td>NaN</td>\n",
              "      <td>NaN</td>\n",
              "    </tr>\n",
              "  </tbody>\n",
              "</table>\n",
              "<p>3538 rows × 8 columns</p>\n",
              "</div>"
            ],
            "text/plain": [
              "          STATION                    NAME        DATE  ...  SNWD  WESD  WESF\n",
              "0     US1DENC0010  NEWPORT 2.4 WNW, DE US  2010-01-01  ...   0.0   NaN   NaN\n",
              "1     US1DENC0010  NEWPORT 2.4 WNW, DE US  2010-01-02  ...   NaN   NaN   NaN\n",
              "2     US1DENC0010  NEWPORT 2.4 WNW, DE US  2010-01-03  ...   NaN   NaN   NaN\n",
              "3     US1DENC0010  NEWPORT 2.4 WNW, DE US  2010-01-04  ...   NaN   NaN   NaN\n",
              "4     US1DENC0010  NEWPORT 2.4 WNW, DE US  2010-01-05  ...   NaN   NaN   NaN\n",
              "...           ...                     ...         ...  ...   ...   ...   ...\n",
              "3533  US1DENC0010  NEWPORT 2.4 WNW, DE US  2019-09-04  ...   NaN   NaN   NaN\n",
              "3534  US1DENC0010  NEWPORT 2.4 WNW, DE US  2019-09-05  ...   NaN   NaN   NaN\n",
              "3535  US1DENC0010  NEWPORT 2.4 WNW, DE US  2019-09-06  ...   NaN   NaN   NaN\n",
              "3536  US1DENC0010  NEWPORT 2.4 WNW, DE US  2019-09-07  ...   NaN   NaN   NaN\n",
              "3537  US1DENC0010  NEWPORT 2.4 WNW, DE US  2019-09-08  ...   NaN   NaN   NaN\n",
              "\n",
              "[3538 rows x 8 columns]"
            ]
          },
          "metadata": {
            "tags": []
          },
          "execution_count": 241
        }
      ]
    },
    {
      "cell_type": "code",
      "metadata": {
        "colab": {
          "base_uri": "https://localhost:8080/",
          "height": 419
        },
        "id": "LfcmvPtDo1jd",
        "outputId": "c5449871-43d7-412e-f1bb-c5ce667bb7bc"
      },
      "source": [
        "rain = rain[['DATE','PRCP']]\n",
        "rain"
      ],
      "execution_count": 242,
      "outputs": [
        {
          "output_type": "execute_result",
          "data": {
            "text/html": [
              "<div>\n",
              "<style scoped>\n",
              "    .dataframe tbody tr th:only-of-type {\n",
              "        vertical-align: middle;\n",
              "    }\n",
              "\n",
              "    .dataframe tbody tr th {\n",
              "        vertical-align: top;\n",
              "    }\n",
              "\n",
              "    .dataframe thead th {\n",
              "        text-align: right;\n",
              "    }\n",
              "</style>\n",
              "<table border=\"1\" class=\"dataframe\">\n",
              "  <thead>\n",
              "    <tr style=\"text-align: right;\">\n",
              "      <th></th>\n",
              "      <th>DATE</th>\n",
              "      <th>PRCP</th>\n",
              "    </tr>\n",
              "  </thead>\n",
              "  <tbody>\n",
              "    <tr>\n",
              "      <th>0</th>\n",
              "      <td>2010-01-01</td>\n",
              "      <td>0.28</td>\n",
              "    </tr>\n",
              "    <tr>\n",
              "      <th>1</th>\n",
              "      <td>2010-01-02</td>\n",
              "      <td>0.00</td>\n",
              "    </tr>\n",
              "    <tr>\n",
              "      <th>2</th>\n",
              "      <td>2010-01-03</td>\n",
              "      <td>0.00</td>\n",
              "    </tr>\n",
              "    <tr>\n",
              "      <th>3</th>\n",
              "      <td>2010-01-04</td>\n",
              "      <td>0.00</td>\n",
              "    </tr>\n",
              "    <tr>\n",
              "      <th>4</th>\n",
              "      <td>2010-01-05</td>\n",
              "      <td>0.00</td>\n",
              "    </tr>\n",
              "    <tr>\n",
              "      <th>...</th>\n",
              "      <td>...</td>\n",
              "      <td>...</td>\n",
              "    </tr>\n",
              "    <tr>\n",
              "      <th>3533</th>\n",
              "      <td>2019-09-04</td>\n",
              "      <td>0.00</td>\n",
              "    </tr>\n",
              "    <tr>\n",
              "      <th>3534</th>\n",
              "      <td>2019-09-05</td>\n",
              "      <td>0.00</td>\n",
              "    </tr>\n",
              "    <tr>\n",
              "      <th>3535</th>\n",
              "      <td>2019-09-06</td>\n",
              "      <td>0.00</td>\n",
              "    </tr>\n",
              "    <tr>\n",
              "      <th>3536</th>\n",
              "      <td>2019-09-07</td>\n",
              "      <td>0.02</td>\n",
              "    </tr>\n",
              "    <tr>\n",
              "      <th>3537</th>\n",
              "      <td>2019-09-08</td>\n",
              "      <td>0.00</td>\n",
              "    </tr>\n",
              "  </tbody>\n",
              "</table>\n",
              "<p>3538 rows × 2 columns</p>\n",
              "</div>"
            ],
            "text/plain": [
              "            DATE  PRCP\n",
              "0     2010-01-01  0.28\n",
              "1     2010-01-02  0.00\n",
              "2     2010-01-03  0.00\n",
              "3     2010-01-04  0.00\n",
              "4     2010-01-05  0.00\n",
              "...          ...   ...\n",
              "3533  2019-09-04  0.00\n",
              "3534  2019-09-05  0.00\n",
              "3535  2019-09-06  0.00\n",
              "3536  2019-09-07  0.02\n",
              "3537  2019-09-08  0.00\n",
              "\n",
              "[3538 rows x 2 columns]"
            ]
          },
          "metadata": {
            "tags": []
          },
          "execution_count": 242
        }
      ]
    },
    {
      "cell_type": "code",
      "metadata": {
        "id": "Q62NlGJitA3T"
      },
      "source": [
        "sample = rain[pd.to_datetime(rain.DATE) > pd.to_datetime(\"2018/01/01\")]"
      ],
      "execution_count": 256,
      "outputs": []
    },
    {
      "cell_type": "code",
      "metadata": {
        "id": "l8PA7Y4xtLd-"
      },
      "source": [
        "population = rain[pd.to_datetime(rain.DATE) <= pd.to_datetime(\"2018/01/01\")]"
      ],
      "execution_count": 257,
      "outputs": []
    },
    {
      "cell_type": "code",
      "metadata": {
        "colab": {
          "base_uri": "https://localhost:8080/"
        },
        "id": "EKoQuhvVxpTT",
        "outputId": "54870900-659b-4dc9-f907-e1e4b81d5d12"
      },
      "source": [
        "print(\"sample mean = %.3f, sample std = %.3f\" % (sample.mean(), sample.std()))"
      ],
      "execution_count": 258,
      "outputs": [
        {
          "output_type": "stream",
          "text": [
            "sample mean = 0.163, sample std = 0.365\n"
          ],
          "name": "stdout"
        }
      ]
    },
    {
      "cell_type": "code",
      "metadata": {
        "colab": {
          "base_uri": "https://localhost:8080/"
        },
        "id": "FIDKpUCDxpV0",
        "outputId": "f005ec44-10ab-4f3f-e3a8-63bf44c72b15"
      },
      "source": [
        "print(\"population mean = %.3f, population std = %.3f\" % (population.mean(), population.std()))"
      ],
      "execution_count": 259,
      "outputs": [
        {
          "output_type": "stream",
          "text": [
            "population mean = 0.132, population std = 0.386\n"
          ],
          "name": "stdout"
        }
      ]
    },
    {
      "cell_type": "code",
      "metadata": {
        "id": "aw6ez8mmtLkU"
      },
      "source": [
        "def Z(population, sample):\n",
        "  return (sample.mean() - population.mean()) / np.std(population) / np.sqrt(len(sample))"
      ],
      "execution_count": 260,
      "outputs": []
    },
    {
      "cell_type": "code",
      "metadata": {
        "colab": {
          "base_uri": "https://localhost:8080/"
        },
        "id": "3hSRY8EdwJQ1",
        "outputId": "3cefa12f-49b2-4cc7-f4c3-e24e65b2e84e"
      },
      "source": [
        "Z(population, sample)"
      ],
      "execution_count": 261,
      "outputs": [
        {
          "output_type": "execute_result",
          "data": {
            "text/plain": [
              "PRCP    0.003186\n",
              "dtype: float64"
            ]
          },
          "metadata": {
            "tags": []
          },
          "execution_count": 261
        }
      ]
    },
    {
      "cell_type": "markdown",
      "metadata": {
        "id": "xSbJvPoJ1Fc1"
      },
      "source": [
        "$H_0$: the sample does come from the population\n",
        "\n",
        "$H_1$: the sample does NOT come from the population"
      ]
    },
    {
      "cell_type": "markdown",
      "metadata": {
        "id": "9fnTYC_q1Fly"
      },
      "source": [
        "We can not reject the null $H_0$ bcs |pivotal quantity = 0.003| < |critical value = 1.96|\n",
        "\n",
        "Then, precipitations from the sample are not anomalous wrt the population"
      ]
    }
  ]
}