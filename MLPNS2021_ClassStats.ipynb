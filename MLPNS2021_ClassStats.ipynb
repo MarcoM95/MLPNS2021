{
  "nbformat": 4,
  "nbformat_minor": 0,
  "metadata": {
    "colab": {
      "name": "MLPNS2021_ClassStats.ipynb",
      "provenance": [],
      "collapsed_sections": [],
      "authorship_tag": "ABX9TyO1CP4QmjRa8oiTlOgFy/SE",
      "include_colab_link": true
    },
    "kernelspec": {
      "name": "python3",
      "display_name": "Python 3"
    },
    "language_info": {
      "name": "python"
    }
  },
  "cells": [
    {
      "cell_type": "markdown",
      "metadata": {
        "id": "view-in-github",
        "colab_type": "text"
      },
      "source": [
        "<a href=\"https://colab.research.google.com/github/MarcoM95/MLPNS2021/blob/main/MLPNS2021_ClassStats.ipynb\" target=\"_parent\"><img src=\"https://colab.research.google.com/assets/colab-badge.svg\" alt=\"Open In Colab\"/></a>"
      ]
    },
    {
      "cell_type": "code",
      "metadata": {
        "id": "CE3-iQKEL_D1"
      },
      "source": [
        "import numpy as np\n",
        "import pylab as plt\n",
        "from numpy import random"
      ],
      "execution_count": 42,
      "outputs": []
    },
    {
      "cell_type": "code",
      "metadata": {
        "colab": {
          "base_uri": "https://localhost:8080/",
          "height": 352
        },
        "id": "rYVdWcDQMYZF",
        "outputId": "2a9628ac-5521-4d84-95c2-fc41947dc4c3"
      },
      "source": [
        "plt.hist(np.random.randn(100))"
      ],
      "execution_count": 43,
      "outputs": [
        {
          "output_type": "execute_result",
          "data": {
            "text/plain": [
              "(array([ 1.,  8.,  8., 19., 17., 21., 11.,  8.,  4.,  3.]),\n",
              " array([-2.06905674, -1.63257787, -1.196099  , -0.75962013, -0.32314126,\n",
              "         0.11333761,  0.54981648,  0.98629535,  1.42277422,  1.85925308,\n",
              "         2.29573195]),\n",
              " <a list of 10 Patch objects>)"
            ]
          },
          "metadata": {
            "tags": []
          },
          "execution_count": 43
        },
        {
          "output_type": "display_data",
          "data": {
            "image/png": "[encoded data removed]",
            "text/plain": [
              "<Figure size 432x288 with 1 Axes>"
            ]
          },
          "metadata": {
            "tags": [],
            "needs_background": "light"
          }
        }
      ]
    },
    {
      "cell_type": "code",
      "metadata": {
        "colab": {
          "base_uri": "https://localhost:8080/",
          "height": 283
        },
        "id": "qv-Qp-qqNrKB",
        "outputId": "c67b8be1-b0ca-4f88-c3cf-08cfdc6281ce"
      },
      "source": [
        "def mygauss(x, mu, sig):\n",
        "  return 1/np.sqrt(2*np.pi)/sig * (np.exp(-(x-mu)**2/2/sig**2))\n",
        "\n",
        "x   = np.arange(100)\n",
        "mu  = 50.\n",
        "sig = 10.\n",
        "mygauss(x,mu,sig);\n",
        "\n",
        "plt.plot(x,mygauss(x,mu,sig))"
      ],
      "execution_count": 44,
      "outputs": [
        {
          "output_type": "execute_result",
          "data": {
            "text/plain": [
              "[<matplotlib.lines.Line2D at 0x7f5b565cda90>]"
            ]
          },
          "metadata": {
            "tags": []
          },
          "execution_count": 44
        },
        {
          "output_type": "display_data",
          "data": {
            "image/png": "[encoded data removed]",
            "text/plain": [
              "<Figure size 432x288 with 1 Axes>"
            ]
          },
          "metadata": {
            "tags": [],
            "needs_background": "light"
          }
        }
      ]
    },
    {
      "cell_type": "code",
      "metadata": {
        "id": "6Nu8mXfwPZOg"
      },
      "source": [
        "import scipy as sp\n",
        "from scipy import stats"
      ],
      "execution_count": 45,
      "outputs": []
    },
    {
      "cell_type": "code",
      "metadata": {
        "colab": {
          "base_uri": "https://localhost:8080/",
          "height": 352
        },
        "id": "HUpgXZG7Pi52",
        "outputId": "cd3296ee-96d0-4397-f7de-be3f726c1d15"
      },
      "source": [
        "np.random.seed(123)                       # fix seed\n",
        "plt.hist(sp.stats.norm.rvs(100,size=100)) # Gaussian with Mean = 100"
      ],
      "execution_count": 61,
      "outputs": [
        {
          "output_type": "execute_result",
          "data": {
            "text/plain": [
              "(array([ 2.,  2.,  9., 17., 16., 14., 11., 16.,  8.,  5.]),\n",
              " array([ 97.20141089,  97.72050633,  98.23960177,  98.75869721,\n",
              "         99.27779264,  99.79688808, 100.31598352, 100.83507895,\n",
              "        101.35417439, 101.87326983, 102.39236527]),\n",
              " <a list of 10 Patch objects>)"
            ]
          },
          "metadata": {
            "tags": []
          },
          "execution_count": 61
        },
        {
          "output_type": "display_data",
          "data": {
            "image/png": "[encoded data removed]",
            "text/plain": [
              "<Figure size 432x288 with 1 Axes>"
            ]
          },
          "metadata": {
            "tags": [],
            "needs_background": "light"
          }
        }
      ]
    },
    {
      "cell_type": "code",
      "metadata": {
        "id": "wEiMJ4M1RpnN"
      },
      "source": [
        "np.random.seed?"
      ],
      "execution_count": 62,
      "outputs": []
    },
    {
      "cell_type": "code",
      "metadata": {
        "id": "dNWbuKUyRBuP"
      },
      "source": [
        "from numpy.random import MT19937\n",
        "from numpy.random import RandomState, SeedSequence"
      ],
      "execution_count": 64,
      "outputs": []
    }
  ]
}